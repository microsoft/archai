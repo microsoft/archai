{
 "cells": [
  {
   "attachments": {},
   "cell_type": "markdown",
   "metadata": {},
   "source": [
    "Notebook to sanity check fft behavior and convince oneself that there is no causal leakage in autoregressive LM with SGConv "
   ]
  },
  {
   "cell_type": "code",
   "execution_count": 1,
   "metadata": {},
   "outputs": [],
   "source": [
    "import torch\n",
    "import torch.functional as F \n",
    "\n",
    "input = torch.Tensor([0, 1, 2, 3, 4, 5, 6, 7])\n",
    "kernel = torch.Tensor([-1, 3, 1, 2, 3, 5, 4, -1])"
   ]
  },
  {
   "attachments": {},
   "cell_type": "markdown",
   "metadata": {},
   "source": [
    "Take the fourier transform of input and kernel"
   ]
  },
  {
   "cell_type": "code",
   "execution_count": 2,
   "metadata": {},
   "outputs": [],
   "source": [
    "input_f = torch.fft.rfft(input, n = 8)\n",
    "kernel_f = torch.fft.rfft(kernel, n = 8)"
   ]
  },
  {
   "cell_type": "code",
   "execution_count": 3,
   "metadata": {},
   "outputs": [],
   "source": [
    "y_f = torch.mul(input_f, kernel_f)\n",
    "y = torch.fft.irfft(y_f)"
   ]
  }
 ],
 "metadata": {
  "kernelspec": {
   "display_name": "archai",
   "language": "python",
   "name": "python3"
  },
  "language_info": {
   "codemirror_mode": {
    "name": "ipython",
    "version": 3
   },
   "file_extension": ".py",
   "mimetype": "text/x-python",
   "name": "python",
   "nbconvert_exporter": "python",
   "pygments_lexer": "ipython3",
   "version": "3.8.15"
  },
  "orig_nbformat": 4,
  "vscode": {
   "interpreter": {
    "hash": "2bc53cc0efc4c5832814526cd5c46d606e57193e6a401cefa48dbee83307ce77"
   }
  }
 },
 "nbformat": 4,
 "nbformat_minor": 2
}
