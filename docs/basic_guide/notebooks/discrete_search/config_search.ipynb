{
 "cells": [
  {
   "cell_type": "code",
   "execution_count": 1,
   "id": "68ca4255",
   "metadata": {},
   "outputs": [],
   "source": [
    "from overrides import overrides\n",
    "import numpy as np\n",
    "from typing import Tuple, List, Optional\n",
    "from archai.discrete_search import ArchaiModel, DiscreteSearchSpace\n",
    "from random import Random"
   ]
  },
  {
   "cell_type": "code",
   "execution_count": 2,
   "id": "bff889e4",
   "metadata": {},
   "outputs": [],
   "source": [
    "import torch\n",
    "from torch import nn"
   ]
  },
  {
   "attachments": {},
   "cell_type": "markdown",
   "id": "cd34f6e8",
   "metadata": {},
   "source": [
    "# Config Search Spaces"
   ]
  },
  {
   "cell_type": "markdown",
   "id": "9c55d342",
   "metadata": {},
   "source": [
    "As seen before, discrete search spaces in Archai are defined using the `DiscreteSearchSpace` abstract class. This tutorial shows how to use the Config Search Space API, which allows building search spaces automatically without having to subclass `DiscreteSearchSpace` .\n"
   ]
  },
  {
   "cell_type": "markdown",
   "id": "3ec56bb5",
   "metadata": {},
   "source": [
    "Let's first start with a simple Pytorch model"
   ]
  },
  {
   "cell_type": "code",
   "execution_count": 3,
   "id": "b8aa44e8",
   "metadata": {},
   "outputs": [],
   "source": [
    "class MyConvBlock(nn.Module):\n",
    "    def __init__(self, in_ch: int, out_ch: int, kernel_size=3):\n",
    "        super().__init__()\n",
    "        \n",
    "        self.op = nn.Sequential(\n",
    "            nn.Conv2d(in_ch, out_ch, kernel_size=kernel_size, padding='same'),\n",
    "            nn.BatchNorm2d(out_ch),\n",
    "            nn.ReLU()\n",
    "        )\n",
    "        \n",
    "    def forward(self, x):\n",
    "        return self.op(x)\n",
    "\n",
    "class MyModel(nn.Module):\n",
    "    def __init__(self):\n",
    "        super().__init__()\n",
    "        \n",
    "        self.stem_conv = nn.Sequential(\n",
    "            nn.Conv2d(3, 32, kernel_size=3, stride=4, padding=1),\n",
    "            nn.BatchNorm2d(32),\n",
    "            nn.ReLU()\n",
    "        )\n",
    "        \n",
    "        self.layers = nn.Sequential(*[\n",
    "            MyConvBlock(32, 32)\n",
    "            for i in range(5)\n",
    "        ])\n",
    "\n",
    "    def forward(self, x):\n",
    "        return self.layers(self.stem_conv(x))"
   ]
  },
  {
   "cell_type": "code",
   "execution_count": 4,
   "id": "2c9016bc",
   "metadata": {},
   "outputs": [],
   "source": [
    "model = MyModel()"
   ]
  },
  {
   "cell_type": "code",
   "execution_count": 5,
   "id": "8f1d0dbf",
   "metadata": {},
   "outputs": [
    {
     "data": {
      "text/plain": [
       "torch.Size([2, 32, 16, 16])"
      ]
     },
     "execution_count": 5,
     "metadata": {},
     "output_type": "execute_result"
    }
   ],
   "source": [
    "x = torch.randn(2, 3, 64, 64)\n",
    "model.forward(x).shape"
   ]
  },
  {
   "attachments": {},
   "cell_type": "markdown",
   "id": "4ae5f457",
   "metadata": {},
   "source": [
    "## Creating an `ArchParamTree`"
   ]
  },
  {
   "cell_type": "markdown",
   "id": "f9dd4643",
   "metadata": {},
   "source": [
    "To turn this model into a search space, first we need to define an `ArchParamTree` with the architecture parameters we want to search "
   ]
  },
  {
   "cell_type": "code",
   "execution_count": 6,
   "id": "47fe3313",
   "metadata": {},
   "outputs": [],
   "source": [
    "from archai.discrete_search.search_spaces.config import ArchParamTree, ArchConfig, DiscreteChoice\n",
    "\n",
    "\n",
    "arch_param_tree = {\n",
    "    'conv_kernel_size': DiscreteChoice([3, 5, 7]),\n",
    "    'num_ch': DiscreteChoice([8, 16, 32]),\n",
    "    'num_layers': DiscreteChoice(range(1, 6))\n",
    "}\n",
    "\n",
    "arch_param_tree = ArchParamTree(arch_param_tree)"
   ]
  },
  {
   "cell_type": "markdown",
   "id": "c8237506",
   "metadata": {},
   "source": [
    "`ArchParamTree` are used to generate `ArchConfig` objects, that specify the choosen architecture configuration. We can sample a configuration using `arch_param_tree.sample_config()`"
   ]
  },
  {
   "cell_type": "code",
   "execution_count": 7,
   "id": "eb9f61fc",
   "metadata": {},
   "outputs": [
    {
     "data": {
      "text/plain": [
       "ArchConfig({\n",
       "    \"conv_kernel_size\": 3,\n",
       "    \"num_ch\": 8,\n",
       "    \"num_layers\": 3\n",
       "})"
      ]
     },
     "execution_count": 7,
     "metadata": {},
     "output_type": "execute_result"
    }
   ],
   "source": [
    "arch_config = arch_param_tree.sample_config()\n",
    "arch_config"
   ]
  },
  {
   "cell_type": "markdown",
   "id": "62bdf172",
   "metadata": {},
   "source": [
    "ArchConfig objects behave like dictionaries. To get the value of an arch parameter, just call `arch_config.pick(parameter_name)`"
   ]
  },
  {
   "cell_type": "code",
   "execution_count": 8,
   "id": "33a166b4",
   "metadata": {},
   "outputs": [
    {
     "data": {
      "text/plain": [
       "3"
      ]
     },
     "execution_count": 8,
     "metadata": {},
     "output_type": "execute_result"
    }
   ],
   "source": [
    "arch_config.pick('conv_kernel_size')"
   ]
  },
  {
   "cell_type": "code",
   "execution_count": 9,
   "id": "22bdb928",
   "metadata": {},
   "outputs": [
    {
     "data": {
      "text/plain": [
       "8"
      ]
     },
     "execution_count": 9,
     "metadata": {},
     "output_type": "execute_result"
    }
   ],
   "source": [
    "arch_config.pick('num_ch')"
   ]
  },
  {
   "cell_type": "code",
   "execution_count": 10,
   "id": "2ba76661",
   "metadata": {},
   "outputs": [
    {
     "data": {
      "text/plain": [
       "OrderedDict([('conv_kernel_size', 3), ('num_ch', 8), ('num_layers', 3)])"
      ]
     },
     "execution_count": 10,
     "metadata": {},
     "output_type": "execute_result"
    }
   ],
   "source": [
    "arch_config.to_dict()"
   ]
  },
  {
   "cell_type": "markdown",
   "id": "9bd50d84",
   "metadata": {},
   "source": [
    "Let's use this in our Pytorch Model definition:"
   ]
  },
  {
   "cell_type": "code",
   "execution_count": 11,
   "id": "093aabab",
   "metadata": {},
   "outputs": [],
   "source": [
    "class MyModel(nn.Module):\n",
    "    \n",
    "    # **We add arch_config as the first parameter of the module**\n",
    "    def __init__(self, arch_config: ArchConfig):\n",
    "        super().__init__()\n",
    "        \n",
    "        # **We call arch_config.pick('num_ch')**\n",
    "        num_ch = arch_config.pick('num_ch')\n",
    "        \n",
    "        self.stem_conv = nn.Sequential(\n",
    "            nn.Conv2d(3, num_ch, kernel_size=3, stride=4, padding=1),\n",
    "            nn.BatchNorm2d(num_ch),\n",
    "            nn.ReLU()\n",
    "        )\n",
    "        \n",
    "        self.layers = nn.Sequential(*[\n",
    "            # **We pick the kernel size and number of layers**\n",
    "            MyConvBlock(num_ch, num_ch, kernel_size=arch_config.pick('conv_kernel_size'))\n",
    "            for i in range(arch_config.pick('num_layers'))\n",
    "        ])\n",
    "                \n",
    "    def forward(self, x):\n",
    "        return self.layers(self.stem_conv(x))\n"
   ]
  },
  {
   "cell_type": "code",
   "execution_count": 12,
   "id": "665d9906",
   "metadata": {},
   "outputs": [
    {
     "data": {
      "text/plain": [
       "MyModel(\n",
       "  (stem_conv): Sequential(\n",
       "    (0): Conv2d(3, 8, kernel_size=(3, 3), stride=(4, 4), padding=(1, 1))\n",
       "    (1): BatchNorm2d(8, eps=1e-05, momentum=0.1, affine=True, track_running_stats=True)\n",
       "    (2): ReLU()\n",
       "  )\n",
       "  (layers): Sequential(\n",
       "    (0): MyConvBlock(\n",
       "      (op): Sequential(\n",
       "        (0): Conv2d(8, 8, kernel_size=(3, 3), stride=(1, 1), padding=same)\n",
       "        (1): BatchNorm2d(8, eps=1e-05, momentum=0.1, affine=True, track_running_stats=True)\n",
       "        (2): ReLU()\n",
       "      )\n",
       "    )\n",
       "    (1): MyConvBlock(\n",
       "      (op): Sequential(\n",
       "        (0): Conv2d(8, 8, kernel_size=(3, 3), stride=(1, 1), padding=same)\n",
       "        (1): BatchNorm2d(8, eps=1e-05, momentum=0.1, affine=True, track_running_stats=True)\n",
       "        (2): ReLU()\n",
       "      )\n",
       "    )\n",
       "    (2): MyConvBlock(\n",
       "      (op): Sequential(\n",
       "        (0): Conv2d(8, 8, kernel_size=(3, 3), stride=(1, 1), padding=same)\n",
       "        (1): BatchNorm2d(8, eps=1e-05, momentum=0.1, affine=True, track_running_stats=True)\n",
       "        (2): ReLU()\n",
       "      )\n",
       "    )\n",
       "  )\n",
       ")"
      ]
     },
     "execution_count": 12,
     "metadata": {},
     "output_type": "execute_result"
    }
   ],
   "source": [
    "model = MyModel(arch_config)\n",
    "model"
   ]
  },
  {
   "cell_type": "markdown",
   "id": "7becafad",
   "metadata": {},
   "source": [
    "To get an Archai DiscreteSearchSpace, we just pass `MyModel` and `search_param_tree` to `ConfigSearchSpace`:"
   ]
  },
  {
   "cell_type": "code",
   "execution_count": 13,
   "id": "66a6a8c6",
   "metadata": {},
   "outputs": [],
   "source": [
    "from archai.discrete_search.search_spaces.config import ConfigSearchSpace\n",
    "\n",
    "search_space = ConfigSearchSpace(MyModel, arch_param_tree, mutation_prob=0.3)"
   ]
  },
  {
   "cell_type": "markdown",
   "id": "be743e6d",
   "metadata": {},
   "source": [
    "All the methods from `DiscreteSearchSpace`, `EvolutionarySearchSpace` and `BayesOptSearchSpace` are automatically implemented. "
   ]
  },
  {
   "cell_type": "code",
   "execution_count": 14,
   "id": "0c30975e",
   "metadata": {},
   "outputs": [
    {
     "name": "stdout",
     "output_type": "stream",
     "text": [
      "(3, 32, 1)\n",
      "(5, 32, 1)\n",
      "(5, 8, 4)\n",
      "[5 8 4]\n"
     ]
    }
   ],
   "source": [
    "# Randomly samples a model\n",
    "m = search_space.random_sample()\n",
    "print(m.archid)\n",
    "\n",
    "# Mutates a model\n",
    "m2 = search_space.mutate(m)\n",
    "print(m2.archid)\n",
    "\n",
    "# Crossover\n",
    "m3 = search_space.crossover([search_space.random_sample(), search_space.random_sample()])\n",
    "print(m3.archid)\n",
    "\n",
    "# Encode\n",
    "print(search_space.encode(m3))"
   ]
  },
  {
   "cell_type": "markdown",
   "id": "c86a2225",
   "metadata": {},
   "source": [
    "Saving and loading"
   ]
  },
  {
   "cell_type": "code",
   "execution_count": 15,
   "id": "a8b96274",
   "metadata": {},
   "outputs": [],
   "source": [
    "search_space.save_arch(m3, 'arch.json')\n",
    "m = search_space.load_arch('arch.json')"
   ]
  },
  {
   "cell_type": "code",
   "execution_count": 16,
   "id": "dec1c727",
   "metadata": {},
   "outputs": [
    {
     "name": "stdout",
     "output_type": "stream",
     "text": [
      "{\r\n",
      "    \"conv_kernel_size\": 5,\r\n",
      "    \"num_ch\": 8,\r\n",
      "    \"num_layers\": 4\r\n",
      "}"
     ]
    }
   ],
   "source": [
    "!cat arch.json"
   ]
  },
  {
   "cell_type": "markdown",
   "id": "78483fbc",
   "metadata": {},
   "source": [
    "We can now use this with any Archai search algorithm and objective!"
   ]
  },
  {
   "cell_type": "markdown",
   "id": "8e988686",
   "metadata": {},
   "source": [
    "## More features of ArchParamTrees"
   ]
  },
  {
   "attachments": {},
   "cell_type": "markdown",
   "id": "36bcb2b2",
   "metadata": {},
   "source": [
    "### Nesting dictionaries inside an `ArchParamTree`"
   ]
  },
  {
   "cell_type": "code",
   "execution_count": 17,
   "id": "8c146f10",
   "metadata": {},
   "outputs": [],
   "source": [
    "arch_param_tree = {\n",
    "    # Stem convolution architecture\n",
    "    'stem_config': {\n",
    "        'kernel_size': DiscreteChoice([3, 5, 7])\n",
    "    },\n",
    "    \n",
    "    'conv_kernel_size': DiscreteChoice([3, 5, 7]),\n",
    "    'num_ch': DiscreteChoice([8, 16, 32])\n",
    "}\n",
    "\n",
    "arch_param_tree = ArchParamTree(arch_param_tree)"
   ]
  },
  {
   "cell_type": "code",
   "execution_count": 18,
   "id": "1fc5581d",
   "metadata": {},
   "outputs": [
    {
     "data": {
      "text/plain": [
       "ArchConfig({\n",
       "    \"stem_config\": {\n",
       "        \"kernel_size\": 7\n",
       "    },\n",
       "    \"conv_kernel_size\": 5,\n",
       "    \"num_ch\": 32\n",
       "})"
      ]
     },
     "execution_count": 18,
     "metadata": {},
     "output_type": "execute_result"
    }
   ],
   "source": [
    "c = arch_param_tree.sample_config()\n",
    "c"
   ]
  },
  {
   "cell_type": "markdown",
   "id": "ea49c074",
   "metadata": {},
   "source": [
    "Calling `c.pick` for a parameter containing a dictionary returns a new `ArchConfig` object for that dictionary"
   ]
  },
  {
   "cell_type": "code",
   "execution_count": 19,
   "id": "928ab08b",
   "metadata": {},
   "outputs": [
    {
     "data": {
      "text/plain": [
       "ArchConfig({\n",
       "    \"kernel_size\": 7\n",
       "})"
      ]
     },
     "execution_count": 19,
     "metadata": {},
     "output_type": "execute_result"
    }
   ],
   "source": [
    "c.pick('stem_config')"
   ]
  },
  {
   "cell_type": "code",
   "execution_count": 20,
   "id": "d0dd7dfa",
   "metadata": {},
   "outputs": [
    {
     "data": {
      "text/plain": [
       "7"
      ]
     },
     "execution_count": 20,
     "metadata": {},
     "output_type": "execute_result"
    }
   ],
   "source": [
    "c.pick('stem_config').pick('kernel_size')"
   ]
  },
  {
   "attachments": {},
   "cell_type": "markdown",
   "id": "774e47ce",
   "metadata": {},
   "source": [
    "### Sharing architecture parameters"
   ]
  },
  {
   "cell_type": "markdown",
   "id": "7f9f6cbe",
   "metadata": {},
   "source": [
    "We can share configuration of different parts of the architecture by re-using references"
   ]
  },
  {
   "cell_type": "code",
   "execution_count": 21,
   "id": "d8d9bef3",
   "metadata": {},
   "outputs": [],
   "source": [
    "kernel_size_choice = DiscreteChoice([3, 5, 7])\n",
    "\n",
    "arch_param_tree = {\n",
    "    'stem_config': {\n",
    "        'kernel_size': kernel_size_choice\n",
    "    },\n",
    "    \n",
    "    'conv_kernel_size': kernel_size_choice,\n",
    "    'num_ch': DiscreteChoice([8, 16, 32])\n",
    "}\n",
    "\n",
    "arch_param_tree = ArchParamTree(arch_param_tree)"
   ]
  },
  {
   "cell_type": "markdown",
   "id": "6aa52a30",
   "metadata": {},
   "source": [
    "`conv_kernel_size` is now always equal to `stem_config.kernel_size` "
   ]
  },
  {
   "cell_type": "code",
   "execution_count": 22,
   "id": "4f5f9a68",
   "metadata": {},
   "outputs": [
    {
     "data": {
      "text/plain": [
       "ArchConfig({\n",
       "    \"stem_config\": {\n",
       "        \"kernel_size\": 3\n",
       "    },\n",
       "    \"conv_kernel_size\": 3,\n",
       "    \"num_ch\": 16\n",
       "})"
      ]
     },
     "execution_count": 22,
     "metadata": {},
     "output_type": "execute_result"
    }
   ],
   "source": [
    "arch_param_tree.sample_config()"
   ]
  },
  {
   "cell_type": "code",
   "execution_count": 23,
   "id": "bd3d2fed",
   "metadata": {},
   "outputs": [
    {
     "data": {
      "text/plain": [
       "ArchConfig({\n",
       "    \"stem_config\": {\n",
       "        \"kernel_size\": 3\n",
       "    },\n",
       "    \"conv_kernel_size\": 3,\n",
       "    \"num_ch\": 16\n",
       "})"
      ]
     },
     "execution_count": 23,
     "metadata": {},
     "output_type": "execute_result"
    }
   ],
   "source": [
    "arch_param_tree.sample_config()"
   ]
  },
  {
   "cell_type": "markdown",
   "id": "ef36cb71",
   "metadata": {},
   "source": [
    "Re-using references of entire dictionaries also works"
   ]
  },
  {
   "cell_type": "code",
   "execution_count": 24,
   "id": "7eda1279",
   "metadata": {},
   "outputs": [],
   "source": [
    "stem_config = {\n",
    "    'kernel_size': DiscreteChoice([3, 5, 7]),\n",
    "    'stride': DiscreteChoice([2, 4])\n",
    "}\n",
    "\n",
    "arch_param_tree = {\n",
    "    'block1': stem_config,\n",
    "    'block2': stem_config,\n",
    "    'block3': stem_config\n",
    "}\n",
    "\n",
    "arch_param_tree = ArchParamTree(arch_param_tree)"
   ]
  },
  {
   "cell_type": "code",
   "execution_count": 25,
   "id": "cca8ba56",
   "metadata": {},
   "outputs": [
    {
     "data": {
      "text/plain": [
       "ArchConfig({\n",
       "    \"block1\": {\n",
       "        \"kernel_size\": 7,\n",
       "        \"stride\": 2\n",
       "    },\n",
       "    \"block2\": {\n",
       "        \"kernel_size\": 7,\n",
       "        \"stride\": 2\n",
       "    },\n",
       "    \"block3\": {\n",
       "        \"kernel_size\": 7,\n",
       "        \"stride\": 2\n",
       "    }\n",
       "})"
      ]
     },
     "execution_count": 25,
     "metadata": {},
     "output_type": "execute_result"
    }
   ],
   "source": [
    "arch_param_tree.sample_config()"
   ]
  },
  {
   "attachments": {},
   "cell_type": "markdown",
   "id": "3af2d0b3",
   "metadata": {},
   "source": [
    "### Repeating configs a variable number of times"
   ]
  },
  {
   "cell_type": "markdown",
   "id": "3fcada17",
   "metadata": {},
   "source": [
    "We can repeat a block of arch parameters using the `repeat_config` function"
   ]
  },
  {
   "cell_type": "code",
   "execution_count": 26,
   "id": "5b14f847",
   "metadata": {},
   "outputs": [],
   "source": [
    "from archai.discrete_search.search_spaces.config import repeat_config\n",
    "\n",
    "arch_param_tree = ArchParamTree({\n",
    "    'layers': repeat_config({\n",
    "        'kernel_size': DiscreteChoice([1, 3, 5, 7]),\n",
    "        'residual': DiscreteChoice([False, True]),\n",
    "        'act_fn': DiscreteChoice(['relu', 'gelu'])\n",
    "    }, repeat_times=[0, 1, 2], share_arch=False)\n",
    "})"
   ]
  },
  {
   "cell_type": "markdown",
   "id": "f4dbb421",
   "metadata": {},
   "source": [
    "ArchParamTree will stack 0, 1, 2 or 3 configs inside ``layers`` in an `ArchConfigList` object"
   ]
  },
  {
   "cell_type": "code",
   "execution_count": 27,
   "id": "d6b5053d",
   "metadata": {},
   "outputs": [
    {
     "data": {
      "text/plain": [
       "ArchConfig({\n",
       "    \"layers\": []\n",
       "})"
      ]
     },
     "execution_count": 27,
     "metadata": {},
     "output_type": "execute_result"
    }
   ],
   "source": [
    "c = arch_param_tree.sample_config(rng=Random(1))\n",
    "c"
   ]
  },
  {
   "cell_type": "code",
   "execution_count": 28,
   "id": "cb316f32",
   "metadata": {},
   "outputs": [
    {
     "name": "stdout",
     "output_type": "stream",
     "text": [
      "0\n"
     ]
    }
   ],
   "source": [
    "print(len(c.pick('layers')))"
   ]
  },
  {
   "cell_type": "code",
   "execution_count": 29,
   "id": "bf73382e",
   "metadata": {},
   "outputs": [
    {
     "data": {
      "text/plain": [
       "ArchConfigList([\n",
       "    {\n",
       "        \"kernel_size\": 5,\n",
       "        \"residual\": true,\n",
       "        \"act_fn\": \"relu\"\n",
       "    },\n",
       "    {\n",
       "        \"kernel_size\": 7,\n",
       "        \"residual\": false,\n",
       "        \"act_fn\": \"relu\"\n",
       "    }\n",
       "])"
      ]
     },
     "execution_count": 29,
     "metadata": {},
     "output_type": "execute_result"
    }
   ],
   "source": [
    "c = arch_param_tree.sample_config(rng=Random(5))\n",
    "c.pick('layers')"
   ]
  },
  {
   "cell_type": "code",
   "execution_count": 30,
   "id": "23b87041",
   "metadata": {},
   "outputs": [
    {
     "name": "stdout",
     "output_type": "stream",
     "text": [
      "2\n"
     ]
    }
   ],
   "source": [
    "print(len(c.pick('layers')))"
   ]
  },
  {
   "cell_type": "markdown",
   "id": "275b7a01",
   "metadata": {},
   "source": [
    "We can select a config from an `ArchConfigList` by selecting the index of the layer we want"
   ]
  },
  {
   "cell_type": "code",
   "execution_count": 31,
   "id": "9336a965",
   "metadata": {},
   "outputs": [
    {
     "name": "stdout",
     "output_type": "stream",
     "text": [
      "ArchConfig({\n",
      "    \"kernel_size\": 7,\n",
      "    \"residual\": false,\n",
      "    \"act_fn\": \"relu\"\n",
      "})\n",
      "kernel_size = 7\n"
     ]
    }
   ],
   "source": [
    "# Picks the config of the second layer\n",
    "print(c.pick('layers')[1])\n",
    "\n",
    "# Picks the kernel size of the second layer\n",
    "kernel_size = c.pick('layers')[1].pick('kernel_size')\n",
    "print(f'kernel_size = {kernel_size}')"
   ]
  },
  {
   "cell_type": "markdown",
   "id": "b8713843",
   "metadata": {},
   "source": [
    "We can also iterate on an `ArchConfigList` object"
   ]
  },
  {
   "cell_type": "code",
   "execution_count": 32,
   "id": "16256c05",
   "metadata": {},
   "outputs": [],
   "source": [
    "config = arch_param_tree.sample_config(rng=Random(5))\n",
    "\n",
    "modules = [\n",
    "    nn.Conv2d(16, 16, kernel_size=layer_conf.pick('kernel_size'))\n",
    "    for layer_conf in config.pick('layers')\n",
    "]"
   ]
  },
  {
   "cell_type": "code",
   "execution_count": 33,
   "id": "3918c7b9",
   "metadata": {},
   "outputs": [
    {
     "data": {
      "text/plain": [
       "[Conv2d(16, 16, kernel_size=(5, 5), stride=(1, 1)),\n",
       " Conv2d(16, 16, kernel_size=(7, 7), stride=(1, 1))]"
      ]
     },
     "execution_count": 33,
     "metadata": {},
     "output_type": "execute_result"
    }
   ],
   "source": [
    "modules"
   ]
  },
  {
   "cell_type": "markdown",
   "id": "18d88904",
   "metadata": {},
   "source": [
    "We can make the architectures parameters the same for each layer by setting `share_arch=True`, "
   ]
  },
  {
   "cell_type": "code",
   "execution_count": 34,
   "id": "64d0bce8",
   "metadata": {},
   "outputs": [
    {
     "data": {
      "text/plain": [
       "ArchConfig({\n",
       "    \"layers\": [\n",
       "        {\n",
       "            \"kernel_size\": 1,\n",
       "            \"residual\": true,\n",
       "            \"act_fn\": \"gelu\"\n",
       "        },\n",
       "        {\n",
       "            \"kernel_size\": 1,\n",
       "            \"residual\": true,\n",
       "            \"act_fn\": \"gelu\"\n",
       "        }\n",
       "    ]\n",
       "})"
      ]
     },
     "execution_count": 34,
     "metadata": {},
     "output_type": "execute_result"
    }
   ],
   "source": [
    "arch_param_tree = ArchParamTree({\n",
    "    'layers': repeat_config({\n",
    "        'kernel_size': DiscreteChoice([1, 3, 5, 7]),\n",
    "        'residual': DiscreteChoice([False, True]),\n",
    "        'act_fn': DiscreteChoice(['relu', 'gelu'])\n",
    "    }, repeat_times=[2, 3], share_arch=True)\n",
    "})\n",
    "\n",
    "arch_param_tree.sample_config()"
   ]
  },
  {
   "attachments": {},
   "cell_type": "markdown",
   "id": "3f471dc1",
   "metadata": {},
   "source": [
    "## Example: Building an Image Classification Search Space"
   ]
  },
  {
   "cell_type": "markdown",
   "id": "cc379b03",
   "metadata": {},
   "source": [
    "Let's use the features described above to build the following search space for image classification"
   ]
  },
  {
   "attachments": {},
   "cell_type": "markdown",
   "id": "ac8736ad",
   "metadata": {},
   "source": [
    "![Image classification ss](./ss_example.png)"
   ]
  },
  {
   "cell_type": "markdown",
   "id": "8641d062",
   "metadata": {},
   "source": [
    "We can build this succinctly using the `repeat_config` function"
   ]
  },
  {
   "cell_type": "code",
   "execution_count": 35,
   "id": "59efd955",
   "metadata": {},
   "outputs": [],
   "source": [
    "arch_param_tree = ArchParamTree({\n",
    "    'base_num_channels': DiscreteChoice([8, 16, 32, 64]),\n",
    "    \n",
    "    'downsample_blocks': repeat_config({\n",
    "        'max_pool_kernel_size': DiscreteChoice([2, 3]),\n",
    "        \n",
    "        'channel_multiplier': DiscreteChoice([1.0, 1.2, 1.4, 1.6, 1.8, 2.0]),\n",
    "        \n",
    "        'convs': repeat_config({\n",
    "            'kernel_size': DiscreteChoice([3, 5, 7]),\n",
    "            'act_fn': DiscreteChoice(['relu', 'gelu']),\n",
    "        }, repeat_times=[1, 2, 3, 4, 5], share_arch=False)\n",
    "    }, repeat_times=[1, 2, 3], share_arch=False)\n",
    "})\n",
    "\n",
    "# We may want to reduce the search space size by sharing some of the architecture params\n",
    "# using share_arch=True."
   ]
  },
  {
   "cell_type": "code",
   "execution_count": 36,
   "id": "c4a47d7f",
   "metadata": {},
   "outputs": [],
   "source": [
    "class MyConvBlock(nn.Module):\n",
    "    def __init__(self, arch_config: ArchConfig, in_ch: int, out_ch: int):\n",
    "        super().__init__()\n",
    "        \n",
    "        self.op = nn.Sequential(\n",
    "            nn.Conv2d(in_ch, out_ch, kernel_size=arch_config.pick('kernel_size'),\n",
    "                      padding='same'),\n",
    "            nn.BatchNorm2d(out_ch),\n",
    "            nn.ReLU() if arch_config.pick('act_fn') == 'relu' else nn.GELU()\n",
    "        )\n",
    "            \n",
    "    def forward(self, x):\n",
    "        return self.op(x)\n",
    "\n",
    "\n",
    "class MyModel(nn.Module):\n",
    "    def __init__(self, arch_config: ArchConfig, stem_stride: int = 2):\n",
    "        super().__init__()\n",
    "        \n",
    "        self.base_ch = arch_config.pick('base_num_channels')\n",
    "        \n",
    "        self.stem_conv = nn.Sequential(\n",
    "            nn.Conv2d(3, self.base_ch, kernel_size=3, stride=stem_stride, padding=1),\n",
    "            nn.BatchNorm2d(self.base_ch),\n",
    "            nn.ReLU()\n",
    "        )\n",
    "        \n",
    "        self.layers = []\n",
    "        current_ch = self.base_ch\n",
    "        \n",
    "        for block_cfg in arch_config.pick('downsample_blocks'):\n",
    "            next_ch = int(block_cfg.pick('channel_multiplier') * current_ch)\n",
    "            \n",
    "            for i, conv_cfg in enumerate(block_cfg.pick('convs')):\n",
    "                self.layers.append(\n",
    "                    MyConvBlock(\n",
    "                        conv_cfg,\n",
    "                        in_ch=(current_ch if i == 0 else next_ch),\n",
    "                        out_ch=next_ch\n",
    "                    )\n",
    "                )\n",
    "            \n",
    "            self.layers.append(\n",
    "                nn.MaxPool2d(kernel_size=block_cfg.pick('max_pool_kernel_size'))\n",
    "            )\n",
    "            \n",
    "            current_ch = next_ch\n",
    "                    \n",
    "        self.layers = nn.Sequential(*self.layers)\n",
    "\n",
    "    def forward(self, x):\n",
    "        return self.layers(self.stem_conv(x))"
   ]
  },
  {
   "cell_type": "code",
   "execution_count": 37,
   "id": "688107c8",
   "metadata": {},
   "outputs": [],
   "source": [
    "config = arch_param_tree.sample_config()"
   ]
  },
  {
   "cell_type": "code",
   "execution_count": 38,
   "id": "e130c469",
   "metadata": {},
   "outputs": [
    {
     "data": {
      "text/plain": [
       "torch.Size([10, 16, 60, 60])"
      ]
     },
     "execution_count": 38,
     "metadata": {},
     "output_type": "execute_result"
    }
   ],
   "source": [
    "model = MyModel(config, stem_stride=2)\n",
    "model(torch.randn(10, 3, 240, 240)).shape"
   ]
  },
  {
   "cell_type": "markdown",
   "id": "8c62282c",
   "metadata": {},
   "source": [
    "We can check the search space size by calling `arch_param_tree.num_archs`"
   ]
  },
  {
   "cell_type": "code",
   "execution_count": 39,
   "id": "5d1e8251",
   "metadata": {},
   "outputs": [
    {
     "data": {
      "text/plain": [
       "1.218719480020992e+18"
      ]
     },
     "execution_count": 39,
     "metadata": {},
     "output_type": "execute_result"
    }
   ],
   "source": [
    "arch_param_tree.num_archs"
   ]
  },
  {
   "cell_type": "markdown",
   "id": "1c8deb0e",
   "metadata": {},
   "source": [
    "Now let's turn `MyModel` into a search space object that can be used in Archai"
   ]
  },
  {
   "cell_type": "code",
   "execution_count": 40,
   "id": "191e91de",
   "metadata": {},
   "outputs": [],
   "source": [
    "ss = ConfigSearchSpace(\n",
    "    MyModel, arch_param_tree,\n",
    "    stem_stride=2 # additional kwargs will be passed to MyModel.__init__()\n",
    ")"
   ]
  },
  {
   "cell_type": "code",
   "execution_count": 41,
   "id": "93e78911",
   "metadata": {},
   "outputs": [],
   "source": [
    "m = ss.random_sample()\n",
    "m2 = ss.mutate(m)\n",
    "\n",
    "# now we can use this search space with any Archai search algorithm"
   ]
  },
  {
   "cell_type": "code",
   "execution_count": 42,
   "id": "8c730958",
   "metadata": {},
   "outputs": [
    {
     "name": "stdout",
     "output_type": "stream",
     "text": [
      "(16, 3, 2, 1.4, 1, 5, 'gelu', nan, nan, nan, nan, nan, nan, nan, nan, 2, 2.0, 3, 5, 'relu', 7, 'relu', 5, 'relu', nan, nan, nan, nan, 3, 2.0, 2, 7, 'relu', 7, 'relu', nan, nan, nan, nan, nan, nan)\n"
     ]
    }
   ],
   "source": [
    "print(m2.archid)"
   ]
  },
  {
   "cell_type": "markdown",
   "id": "60dc163b",
   "metadata": {},
   "source": [
    "## Tracking used architecture parameters for model de-duplication"
   ]
  },
  {
   "cell_type": "markdown",
   "id": "1421648a",
   "metadata": {},
   "source": [
    "Consider the following example:"
   ]
  },
  {
   "cell_type": "code",
   "execution_count": 43,
   "id": "26757cb4",
   "metadata": {},
   "outputs": [],
   "source": [
    "arch_param_tree = ArchParamTree({\n",
    "    'op_type': DiscreteChoice(['identity', 'conv']),\n",
    "    'conv_kernel_size': DiscreteChoice([1, 3, 5, 7])\n",
    "})"
   ]
  },
  {
   "cell_type": "code",
   "execution_count": 44,
   "id": "ea032794",
   "metadata": {},
   "outputs": [],
   "source": [
    "class MyOperation(nn.Module):\n",
    "    def __init__(self, arch_config: ArchConfig, in_ch):\n",
    "        super().__init__()\n",
    "        \n",
    "        self.op_type = arch_config.pick('op_type')\n",
    "        \n",
    "        if arch_config.pick('op_type') == 'conv':\n",
    "            self.op = nn.Sequential(\n",
    "                nn.Conv2d(\n",
    "                    in_ch, in_ch,\n",
    "                    kernel_size=arch_config.pick('conv_kernel_size'),\n",
    "                    padding='same',\n",
    "                ),\n",
    "                nn.BatchNorm2d(in_ch),\n",
    "                nn.ReLU(),\n",
    "            )\n",
    "            \n",
    "    def forward(self, x):\n",
    "        if self.op_type == 'identity':\n",
    "            return x\n",
    "        \n",
    "        return self.op(x)"
   ]
  },
  {
   "cell_type": "markdown",
   "id": "3a63176b",
   "metadata": {},
   "source": [
    "Notice that when `op_type=\"identity\"` the value of `conv_kernel_size` is not used at all.\n",
    "\n",
    "That means that our search space might not know that the architectures encoded by `(\"identity\", 3)` and `(\"identity\", 7)` are in fact the same architecture! That can become a huge problem given that each architecture evaluation can be expensive."
   ]
  },
  {
   "cell_type": "markdown",
   "id": "604b6159",
   "metadata": {},
   "source": [
    "To avoid that, each `ArchConfig` object automatically tracks when an architecture parameter was used with the `.pick` method. \n",
    "\n",
    "For instance:"
   ]
  },
  {
   "cell_type": "code",
   "execution_count": 45,
   "id": "b2a2ede6",
   "metadata": {},
   "outputs": [
    {
     "data": {
      "text/plain": [
       "ArchConfig({\n",
       "    \"op_type\": \"identity\",\n",
       "    \"conv_kernel_size\": 7\n",
       "})"
      ]
     },
     "execution_count": 45,
     "metadata": {},
     "output_type": "execute_result"
    }
   ],
   "source": [
    "c = arch_param_tree.sample_config()\n",
    "c"
   ]
  },
  {
   "cell_type": "markdown",
   "id": "4b43a477",
   "metadata": {},
   "source": [
    "`ArchConfig.get_used_params()` returns the usage dictionary of this `ArchConfig` object."
   ]
  },
  {
   "cell_type": "code",
   "execution_count": 46,
   "id": "bc0a608f",
   "metadata": {},
   "outputs": [
    {
     "data": {
      "text/plain": [
       "OrderedDict([('op_type', False), ('conv_kernel_size', False)])"
      ]
     },
     "execution_count": 46,
     "metadata": {},
     "output_type": "execute_result"
    }
   ],
   "source": [
    "c.get_used_params()"
   ]
  },
  {
   "cell_type": "markdown",
   "id": "469cb2e1",
   "metadata": {},
   "source": [
    "Let's pick a parameter now"
   ]
  },
  {
   "cell_type": "code",
   "execution_count": 47,
   "id": "2c3bf856",
   "metadata": {},
   "outputs": [
    {
     "data": {
      "text/plain": [
       "'identity'"
      ]
     },
     "execution_count": 47,
     "metadata": {},
     "output_type": "execute_result"
    }
   ],
   "source": [
    "c.pick('op_type')"
   ]
  },
  {
   "cell_type": "code",
   "execution_count": 48,
   "id": "299acff3",
   "metadata": {},
   "outputs": [
    {
     "data": {
      "text/plain": [
       "OrderedDict([('op_type', True), ('conv_kernel_size', False)])"
      ]
     },
     "execution_count": 48,
     "metadata": {},
     "output_type": "execute_result"
    }
   ],
   "source": [
    "c.get_used_params()"
   ]
  },
  {
   "cell_type": "markdown",
   "id": "a6fa8bb9",
   "metadata": {},
   "source": [
    "This is automatically handled by the ConfigSearchSpace object when generating architecture ids, which allows deduplicating architectures"
   ]
  },
  {
   "cell_type": "code",
   "execution_count": 49,
   "id": "14cedc18",
   "metadata": {},
   "outputs": [],
   "source": [
    "ss = ConfigSearchSpace(MyOperation, arch_param_tree, in_ch=16)"
   ]
  },
  {
   "cell_type": "markdown",
   "id": "f44b2f46",
   "metadata": {},
   "source": [
    "By default, non-used parameters appear as NaN values."
   ]
  },
  {
   "cell_type": "code",
   "execution_count": 50,
   "id": "9c9b7720",
   "metadata": {},
   "outputs": [
    {
     "data": {
      "text/plain": [
       "\"('identity', nan)\""
      ]
     },
     "execution_count": 50,
     "metadata": {},
     "output_type": "execute_result"
    }
   ],
   "source": [
    "m1 = ss.random_sample()\n",
    "m1.archid"
   ]
  },
  {
   "cell_type": "code",
   "execution_count": 51,
   "id": "82b32256",
   "metadata": {},
   "outputs": [
    {
     "data": {
      "text/plain": [
       "\"('conv', 1)\""
      ]
     },
     "execution_count": 51,
     "metadata": {},
     "output_type": "execute_result"
    }
   ],
   "source": [
    "m2 = ss.random_sample()\n",
    "m2.archid"
   ]
  },
  {
   "cell_type": "markdown",
   "id": "3877d4f9",
   "metadata": {},
   "source": [
    "To turn this feature off, you can either\n",
    "\n",
    "* Selectively call `config.pick(param_name, record_usage=False)`\n",
    "* or set `ConfigSearchSpace(..., track_unused_params=False)`"
   ]
  },
  {
   "cell_type": "markdown",
   "id": "915825bf",
   "metadata": {},
   "source": [
    "This feature is also used when generating architecture encodings for surrogate models"
   ]
  },
  {
   "cell_type": "code",
   "execution_count": 52,
   "id": "bc2cb6a3",
   "metadata": {},
   "outputs": [
    {
     "data": {
      "text/plain": [
       "array(['identity', 'nan'], dtype='<U32')"
      ]
     },
     "execution_count": 52,
     "metadata": {},
     "output_type": "execute_result"
    }
   ],
   "source": [
    "ss.encode(m1)"
   ]
  },
  {
   "cell_type": "code",
   "execution_count": 53,
   "id": "4a2699fc",
   "metadata": {},
   "outputs": [
    {
     "data": {
      "text/plain": [
       "array(['conv', '1'], dtype='<U21')"
      ]
     },
     "execution_count": 53,
     "metadata": {},
     "output_type": "execute_result"
    }
   ],
   "source": [
    "ss.encode(m2)"
   ]
  }
 ],
 "metadata": {
  "kernelspec": {
   "display_name": "base",
   "language": "python",
   "name": "python3"
  },
  "language_info": {
   "codemirror_mode": {
    "name": "ipython",
    "version": 3
   },
   "file_extension": ".py",
   "mimetype": "text/x-python",
   "name": "python",
   "nbconvert_exporter": "python",
   "pygments_lexer": "ipython3",
   "version": "3.8.13 (default, Mar 28 2022, 06:59:08) [MSC v.1916 64 bit (AMD64)]"
  },
  "vscode": {
   "interpreter": {
    "hash": "061de099a6228489a062fc76c87a644a58000cdfd6d3f71c9ead3d94c281ec91"
   }
  }
 },
 "nbformat": 4,
 "nbformat_minor": 5
}
