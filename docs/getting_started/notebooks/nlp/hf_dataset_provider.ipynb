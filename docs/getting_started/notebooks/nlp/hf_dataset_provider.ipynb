{
 "cells": [
  {
   "attachments": {},
   "cell_type": "markdown",
   "metadata": {},
   "source": [
    "# Creating NLP-based Data\n",
    "\n",
    "In this notebook, we will use a dataset provider-based abstraction that interfaces with Hugging Face's `datasets`. Such a library provides access to a large number of NLP-based datasets, including text classification, question-answering, and language modeling, among others."
   ]
  },
  {
   "attachments": {},
   "cell_type": "markdown",
   "metadata": {},
   "source": [
    "## Loading the Data\n",
    "\n",
    "The first step is to create an instance of the `HfHubDatasetProvider`, which offers pre-loads the dataset and offers three methods to retrieve them: `get_train_dataset()`, `get_val_dataset()` and `get_test_dataset()`.\n",
    "\n",
    "Additionally, a set of additional arguments can be passed to its constructor according to the user's needs:\n",
    "\n",
    "* `dataset_config_name`: Name of the dataset configuration.\n",
    "* `data_dir`: Path to the data directory.\n",
    "* `data_files`: Path(s) to the data file(s).\n",
    "* `cache_dir`: Path to the read/write cache directory.\n",
    "* `revision`: Version of the dataset to load."
   ]
  },
  {
   "cell_type": "code",
   "execution_count": 1,
   "metadata": {},
   "outputs": [
    {
     "name": "stderr",
     "output_type": "stream",
     "text": [
      "Found cached dataset glue (C:/Users/gderosa/.cache/huggingface/datasets/glue/sst2/1.0.0/dacbe3125aa31d7f70367a07a8a9e72a5a0bfeb5fc42e75c9db75b96da6053ad)\n",
      "Found cached dataset glue (C:/Users/gderosa/.cache/huggingface/datasets/glue/sst2/1.0.0/dacbe3125aa31d7f70367a07a8a9e72a5a0bfeb5fc42e75c9db75b96da6053ad)\n"
     ]
    },
    {
     "name": "stdout",
     "output_type": "stream",
     "text": [
      "Dataset({\n",
      "    features: ['sentence', 'label', 'idx'],\n",
      "    num_rows: 673\n",
      "}) Dataset({\n",
      "    features: ['sentence', 'label', 'idx'],\n",
      "    num_rows: 872\n",
      "})\n"
     ]
    }
   ],
   "source": [
    "from archai.datasets.nlp.hf_dataset_provider import HfHubDatasetProvider\n",
    "\n",
    "dataset_provider = HfHubDatasetProvider(\"glue\", dataset_config_name=\"sst2\")\n",
    "\n",
    "# When loading `train_dataset`, we will override the split argument to only load 1%\n",
    "# of the data and speed up its encoding\n",
    "train_dataset = dataset_provider.get_train_dataset(split=\"train[:1%]\")\n",
    "val_dataset = dataset_provider.get_val_dataset()\n",
    "print(train_dataset, val_dataset)"
   ]
  },
  {
   "attachments": {},
   "cell_type": "markdown",
   "metadata": {},
   "source": [
    "## Encoding the Data\n",
    "\n",
    "After loading the data, one might need to encode it with a tokenizer to apply for an NLP-based task. Again, Archai's offer a set of functions that ease the process.\n",
    "\n",
    "Inside the `archai.datasets.nlp.hf_dataset_provider_utils` module, the user can find different tokenization functions, such as:\n",
    "\n",
    "* `tokenize_dataset`: Tokenize a list of examples using a specified tokenizer.\n",
    "* `tokenize_contiguous_dataset`: Tokenize a list of examples using a specified tokenizer and\n",
    "    with contiguous-length batches (no truncation nor padding).\n",
    "* `tokenize_nsp_dataset`: Tokenize a list of examples using a specified tokenizer and\n",
    "    with next-sentence prediction (NSP)."
   ]
  },
  {
   "cell_type": "code",
   "execution_count": 2,
   "metadata": {},
   "outputs": [
    {
     "name": "stderr",
     "output_type": "stream",
     "text": [
      "Loading cached processed dataset at C:\\Users\\gderosa\\.cache\\huggingface\\datasets\\glue\\sst2\\1.0.0\\dacbe3125aa31d7f70367a07a8a9e72a5a0bfeb5fc42e75c9db75b96da6053ad\\cache-c989f437f7c0d7ad.arrow\n",
      "Loading cached processed dataset at C:\\Users\\gderosa\\.cache\\huggingface\\datasets\\glue\\sst2\\1.0.0\\dacbe3125aa31d7f70367a07a8a9e72a5a0bfeb5fc42e75c9db75b96da6053ad\\cache-31197ec623723cd1.arrow\n"
     ]
    },
    {
     "name": "stdout",
     "output_type": "stream",
     "text": [
      "Dataset({\n",
      "    features: ['sentence', 'label', 'idx', 'input_ids', 'attention_mask'],\n",
      "    num_rows: 673\n",
      "}) Dataset({\n",
      "    features: ['sentence', 'label', 'idx', 'input_ids', 'attention_mask'],\n",
      "    num_rows: 872\n",
      "})\n"
     ]
    }
   ],
   "source": [
    "from transformers import AutoTokenizer\n",
    "from archai.datasets.nlp.hf_dataset_provider_utils import tokenize_dataset\n",
    "\n",
    "tokenizer = AutoTokenizer.from_pretrained(\"gpt2\")\n",
    "tokenizer.pad_token = tokenizer.eos_token\n",
    "\n",
    "encoded_train_dataset = train_dataset.map(tokenize_dataset, batched=True, fn_kwargs={\"tokenizer\": tokenizer, \"mapping_column_name\": [\"sentence\"]})\n",
    "encoded_val_dataset = val_dataset.map(tokenize_dataset, batched=True, fn_kwargs={\"tokenizer\": tokenizer, \"mapping_column_name\": [\"sentence\"]})\n",
    "print(encoded_train_dataset, encoded_val_dataset)"
   ]
  }
 ],
 "metadata": {
  "kernelspec": {
   "display_name": "archai",
   "language": "python",
   "name": "python3"
  },
  "language_info": {
   "codemirror_mode": {
    "name": "ipython",
    "version": 3
   },
   "file_extension": ".py",
   "mimetype": "text/x-python",
   "name": "python",
   "nbconvert_exporter": "python",
   "pygments_lexer": "ipython3",
   "version": "3.7.16"
  },
  "orig_nbformat": 4,
  "vscode": {
   "interpreter": {
    "hash": "b2be478cf8a2d9a6a1293b022e8589530f7ec0d0340a3a36da6068ef3d344086"
   }
  }
 },
 "nbformat": 4,
 "nbformat_minor": 2
}
