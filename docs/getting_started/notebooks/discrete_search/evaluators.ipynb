{
 "cells": [
  {
   "cell_type": "markdown",
   "id": "d6fa8b24",
   "metadata": {},
   "source": [
    "# Evaluators"
   ]
  },
  {
   "cell_type": "code",
   "execution_count": null,
   "id": "1b103993",
   "metadata": {},
   "outputs": [],
   "source": [
    "from overrides import overrides\n",
    "from typing import List, Optional\n",
    "from archai.discrete_search.api import ArchaiModel"
   ]
  },
  {
   "cell_type": "markdown",
   "id": "f81488a6",
   "metadata": {},
   "source": [
    "We will use SegmentationDag search space for this example"
   ]
  },
  {
   "cell_type": "code",
   "execution_count": null,
   "id": "e7f475e2",
   "metadata": {},
   "outputs": [],
   "source": [
    "from archai.discrete_search.search_spaces.cv import SegmentationDagSearchSpace"
   ]
  },
  {
   "cell_type": "code",
   "execution_count": null,
   "id": "338ecd2c",
   "metadata": {},
   "outputs": [],
   "source": [
    "ss = SegmentationDagSearchSpace(nb_classes=1, img_size=(64, 64), max_layers=5, seed=11)"
   ]
  },
  {
   "cell_type": "code",
   "execution_count": null,
   "id": "8390ddcb",
   "metadata": {},
   "outputs": [],
   "source": [
    "m = ss.random_sample()\n",
    "m.arch.view()"
   ]
  },
  {
   "cell_type": "markdown",
   "id": "de3d9ea3",
   "metadata": {},
   "source": [
    "`SegmentationDagSearchSpace` is a subclass of `EvolutionarySearchSpace`, so `mutate` and `crossover` methods are already implemented"
   ]
  },
  {
   "cell_type": "code",
   "execution_count": null,
   "id": "dab02f97",
   "metadata": {},
   "outputs": [],
   "source": [
    "ss.mutate(m).arch.view()"
   ]
  },
  {
   "cell_type": "markdown",
   "id": "8bc5d19f",
   "metadata": {},
   "source": [
    "## Evaluating models"
   ]
  },
  {
   "attachments": {},
   "cell_type": "markdown",
   "id": "225a22a1",
   "metadata": {},
   "source": [
    "`Evaluators` are the main tool used to evaluate architectures in given criteria (task performance, speed, size, etc.). Archai supports two types of `Evaluators`:\n",
    "\n",
    "* ModelEvaluator ([archai.discrete_search.api.evaluator.ModelEvaluator](https://microsoft.github.io/archai/reference/api/archai.discrete_search.api.html#module-archai.discrete_search.api.evaluator.ModelEvaluator))\n",
    "    * Evaluates a model: `ModelEvaluator.evaluate(model, budget)`\n",
    "\n",
    "* AsyncModelEvaluator ([archai.discrete_search.api.evaluator.AsyncModelEvaluator](https://microsoft.github.io/archai/reference/api/archai.discrete_search.api.html#module-archai.discrete_search.api.evaluator.AsyncModelEvaluator)):\n",
    "    * Sends an evaluation job: `AsyncModelEvaluator.send(model, budget)`\n",
    "    * Fetches all evaluation jobs from the queue: `AsyncObjective.fetch_all()` \n",
    "  \n",
    "A synchronous evaluator (`ModelEvaluator`) is computed by the search algorithm in a sequential fashion, while an asynchronous evaluator (`AsyncModelEvaluator`) sends evaluation jobs to a queue and fetches the results later, and thus can be used to evaluate models remotely or in a distributed fashion.\n",
    "\n",
    "The `ArchaiModel` object passed to the evaluator objects can be used to access the architecture, if necessary. Some objectives will actively use the a dataset (e.g task accuracy), while others (e.g FLOPs, latency, memory) may not.\n",
    "\n",
    "The `budget` argument, if provided, is a multiplier value used by search algorithms like `SucessiveHalving` to specify how much compute should be spent on the evaluation.\n",
    "\n",
    "Read more about Evaluators [here](https://microsoft.github.io/archai/reference/api/archai.discrete_search.api.html#module-archai.discrete_search.api.evaluator). You can find a list of built-in evaluators in `archai.discrete_search.evaluators`."
   ]
  },
  {
   "cell_type": "markdown",
   "id": "6f649761",
   "metadata": {},
   "source": [
    "### Example: Using a built-in evaluator (`AvgOnnxLatency`)"
   ]
  },
  {
   "cell_type": "markdown",
   "id": "11df46b1",
   "metadata": {},
   "source": [
    "Let's use a built-in evaluator to measure ONNX latency of PyTorch models"
   ]
  },
  {
   "cell_type": "code",
   "execution_count": null,
   "id": "a438d949",
   "metadata": {},
   "outputs": [],
   "source": [
    "from archai.discrete_search.evaluators import AvgOnnxLatency"
   ]
  },
  {
   "cell_type": "code",
   "execution_count": null,
   "id": "e250c928",
   "metadata": {},
   "outputs": [],
   "source": [
    "onnx_latency_obj = AvgOnnxLatency(input_shape=(1, 3, 64, 64))\n",
    "onnx_latency_obj.evaluate(model=ss.random_sample(), budget=None)"
   ]
  },
  {
   "cell_type": "markdown",
   "id": "cbc58063",
   "metadata": {},
   "source": [
    "### Custom Evaluator Example"
   ]
  },
  {
   "cell_type": "markdown",
   "id": "1678b766",
   "metadata": {},
   "source": [
    "Let's create a simple custom `ModelEvaluator` that counts the number of modules in a model"
   ]
  },
  {
   "cell_type": "code",
   "execution_count": null,
   "id": "cbff79f6",
   "metadata": {},
   "outputs": [],
   "source": [
    "from archai.api.dataset_provider import DatasetProvider\n",
    "from archai.discrete_search.api import ModelEvaluator"
   ]
  },
  {
   "cell_type": "code",
   "execution_count": null,
   "id": "5e906f6b",
   "metadata": {},
   "outputs": [],
   "source": [
    "class NumberOfModules(ModelEvaluator):\n",
    "    ''' Class that measures the size of a model by the number of torch modules '''\n",
    "    \n",
    "    @overrides\n",
    "    def evaluate(self, model: ArchaiModel,\n",
    "                 budget: Optional[float] = None):\n",
    "        return len(list(model.arch.modules()))"
   ]
  },
  {
   "cell_type": "code",
   "execution_count": null,
   "id": "58aa1eba",
   "metadata": {},
   "outputs": [],
   "source": [
    "m = ss.random_sample()"
   ]
  },
  {
   "cell_type": "code",
   "execution_count": null,
   "id": "d6b5f1f0",
   "metadata": {},
   "outputs": [],
   "source": [
    "my_objective = NumberOfModules()\n",
    "my_objective.evaluate(m)"
   ]
  },
  {
   "cell_type": "markdown",
   "id": "81051526",
   "metadata": {},
   "source": [
    "### Useful Evaluators"
   ]
  },
  {
   "attachments": {},
   "cell_type": "markdown",
   "id": "ecb5ca78",
   "metadata": {},
   "source": [
    "* [RayParallelEvaluator](https://microsoft.github.io/archai/reference/api/archai.discrete_search.objectives.html#module-archai.discrete_search.evaluators.ray) - Wraps an existing `ModelEvaluator` into a new `AsyncModelEvaluator` that runs evaluation jobs using multiple Ray workers.\n",
    "\n",
    "* [EvaluationFunction](https://microsoft.github.io/archai/reference/api/archai.discrete_search.objectives.html#module-archai.discrete_search.evaluators.functional) - Wraps a function that takes (model, budget) arguments and creates a `ModelEvaluator`"
   ]
  },
  {
   "cell_type": "markdown",
   "id": "bcaf1433",
   "metadata": {},
   "source": [
    "#### Example: Parallelizing NumberOfModules"
   ]
  },
  {
   "cell_type": "markdown",
   "id": "3d025574",
   "metadata": {},
   "source": [
    "Let's use `RayParallelEvaluator` to make our custom evaluator `NumberOfModules` run more efficiently."
   ]
  },
  {
   "cell_type": "code",
   "execution_count": null,
   "id": "8f6666c0",
   "metadata": {},
   "outputs": [],
   "source": [
    "from archai.discrete_search.evaluators import RayParallelEvaluator"
   ]
  },
  {
   "cell_type": "code",
   "execution_count": null,
   "id": "c77984d2",
   "metadata": {},
   "outputs": [],
   "source": [
    "my_objective_parallel = RayParallelEvaluator(\n",
    "    NumberOfModules(), \n",
    "    timeout=10, # Timeout in seconds\n",
    "    num_cpus=1.0 # Each evaluation job will use a CPU core\n",
    ")"
   ]
  },
  {
   "attachments": {},
   "cell_type": "markdown",
   "id": "61099086",
   "metadata": {},
   "source": [
    "`my_objective_parallel` is now an `AsyncModelEvaluator` object. We can send evaluation jobs calling `AsyncModelEvaluator.send(model, budget)`:"
   ]
  },
  {
   "cell_type": "code",
   "execution_count": null,
   "id": "41a38d5d",
   "metadata": {},
   "outputs": [],
   "source": [
    "model_list = [ss.random_sample() for _ in range(10)]\n",
    "\n",
    "for model in model_list:\n",
    "    print(f'Dispatching job for {model.archid}')\n",
    "    my_objective_parallel.send(model, budget=None)"
   ]
  },
  {
   "cell_type": "markdown",
   "id": "cc693381",
   "metadata": {},
   "source": [
    "We can fetch and clear all jobs from the job queue by calling `AsyncModelEvaluator.fetch_all()`"
   ]
  },
  {
   "cell_type": "code",
   "execution_count": null,
   "id": "230bb8f1",
   "metadata": {},
   "outputs": [],
   "source": [
    "my_objective_parallel.fetch_all()"
   ]
  },
  {
   "cell_type": "markdown",
   "id": "2e7ecb5c",
   "metadata": {},
   "source": [
    "After that, job queue should be empty"
   ]
  },
  {
   "cell_type": "code",
   "execution_count": null,
   "id": "3cbcdfc6",
   "metadata": {},
   "outputs": [],
   "source": [
    "assert my_objective_parallel.fetch_all() == []"
   ]
  },
  {
   "cell_type": "markdown",
   "id": "f86f894a",
   "metadata": {},
   "source": [
    "#### Example: Wrapping custom training code into an Evaluator"
   ]
  },
  {
   "cell_type": "markdown",
   "id": "16325653",
   "metadata": {},
   "source": [
    "Let's consider the problem of measuring the task performance on a specific dataset with custom training code. "
   ]
  },
  {
   "cell_type": "code",
   "execution_count": null,
   "id": "bb78fec1",
   "metadata": {},
   "outputs": [],
   "source": [
    "from archai.datasets.cv.mnist_dataset_provider import MnistDatasetProvider\n",
    "from archai.discrete_search.evaluators import EvaluationFunction"
   ]
  },
  {
   "cell_type": "markdown",
   "id": "e3aa7b84",
   "metadata": {},
   "source": [
    "Datasets in Archai are defined using dataset providers. We will use the built-in `MnistProvider` dataset provider for the MNIST dataset."
   ]
  },
  {
   "cell_type": "code",
   "execution_count": null,
   "id": "2e5a0d51",
   "metadata": {},
   "outputs": [],
   "source": [
    "dataset_provider = MnistDatasetProvider()"
   ]
  },
  {
   "cell_type": "markdown",
   "id": "e86c6b1e",
   "metadata": {},
   "source": [
    "We can now wrap custom training code easily using the `EvaluationFunction` wrapper:"
   ]
  },
  {
   "attachments": {},
   "cell_type": "markdown",
   "id": "854e656c",
   "metadata": {},
   "source": [
    "```python\n",
    "def custom_training_val_performance(model, budget=None):\n",
    "    tr_data = dataset_provider.get_train_dataset()\n",
    "    val_data = dataset_provider.get_val_dataset()\n",
    "\n",
    "    tr_dl = torch.utils.data.DataLoader(tr_data, shuffle=True, batch_size=16)\n",
    "    val_dl = torch.utils.data.DataLoader(val_data, shuffle=True, batch_size=16)\n",
    "\n",
    "    optimizer = torch.optim.Adam(model.arch.parameters(), lr=1e-3)\n",
    "    ...\n",
    "\n",
    "    for batch in tr_dl:\n",
    "        ...\n",
    "\n",
    "    for batch in val_dl:\n",
    "        ...\n",
    "\n",
    "    return validation_metric\n",
    "```"
   ]
  },
  {
   "attachments": {},
   "cell_type": "markdown",
   "id": "2db08cec",
   "metadata": {},
   "source": [
    "```python\n",
    "\n",
    "# Wraps custom training function into a ModelEvaluator\n",
    "custom_evaluator = EvaluationFunction(custom_traininb_val_performance)\n",
    "\n",
    "# Evaluates an architecture from the search space\n",
    "custom_evaluator.evaluate(ss.random_sample(), budget=None)\n",
    "```"
   ]
  },
  {
   "cell_type": "markdown",
   "id": "ebb4c012",
   "metadata": {},
   "source": [
    "See the next notebook for a complete example using a custom training objectives"
   ]
  }
 ],
 "metadata": {
  "kernelspec": {
   "display_name": "archai",
   "language": "python",
   "name": "python3"
  },
  "language_info": {
   "codemirror_mode": {
    "name": "ipython",
    "version": 3
   },
   "file_extension": ".py",
   "mimetype": "text/x-python",
   "name": "python",
   "nbconvert_exporter": "python",
   "pygments_lexer": "ipython3",
   "version": "3.8.13"
  },
  "vscode": {
   "interpreter": {
    "hash": "b2be478cf8a2d9a6a1293b022e8589530f7ec0d0340a3a36da6068ef3d344086"
   }
  }
 },
 "nbformat": 4,
 "nbformat_minor": 5
}
