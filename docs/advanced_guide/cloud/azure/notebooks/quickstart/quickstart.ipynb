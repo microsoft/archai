{
  "cells": [
    {
      "attachments": {},
      "cell_type": "markdown",
      "metadata": {
        "nbsphinx": {
	        "execute": "never"
	      }
	    },
      "source": [
        "# QuickStart\n",
        "\n",
        "In this Notebook we run Archai's [Quickstart](https://microsoft.github.io/archai/getting_started/quick_start.html) example on Azure Machine Learning.\n",
        "\n",
        "## Prerequisites\n",
        "\n",
        "- Python 3.7 or later\n",
        "- An Azure subscription\n",
        "- An Azure Resource Group\n",
        "- An Azure Machine Learning [Workspace](https://learn.microsoft.com/en-us/azure/machine-learning/quickstart-create-resources#create-the-workspace)"
      ]
    },
    {
      "attachments": {},
      "cell_type": "markdown",
      "metadata": {},
      "source": [
        "### Requirements"
      ]
    },
    {
      "cell_type": "code",
      "execution_count": null,
      "metadata": {},
      "outputs": [],
      "source": [
        "%pip install azure-ai-ml azure-identity pandas\n",
        "%pip install archai"
      ]
    },
    {
      "cell_type": "code",
      "execution_count": null,
      "metadata": {},
      "outputs": [],
      "source": [
        "from pathlib import Path\n",
        "\n",
        "from IPython.display import display, Image\n",
        "from IPython.core.display import HTML\n",
        "\n",
        "from azure.ai.ml import Output, command\n",
        "\n",
        "import archai.common.azureml_helper as aml_helper\n",
        "import archai.common.notebook_helper as nb_helper"
      ]
    },
    {
      "attachments": {},
      "cell_type": "markdown",
      "metadata": {
        "nteract": {
          "transient": {
            "deleting": false
          }
        }
      },
      "source": [
        "### Get a handle to the workspace\n",
        "\n",
        "We load the workspace from a workspace [configuration file](https://learn.microsoft.com/en-us/azure/machine-learning/how-to-configure-environment#local-and-dsvm-only-create-a-workspace-configuration-file)."
      ]
    },
    {
      "cell_type": "code",
      "execution_count": null,
      "metadata": {
        "gather": {
          "logged": 1675428777177
        }
      },
      "outputs": [],
      "source": [
        "ml_client = aml_helper.get_aml_client_from_file(\"../.azureml/config.json\")\n",
        "print(f'Using workspace: {ml_client.workspace_name} in resource group: {ml_client.resource_group_name}')"
      ]
    },
    {
      "attachments": {},
      "cell_type": "markdown",
      "metadata": {
        "nteract": {
          "transient": {
            "deleting": false
          }
        }
      },
      "source": [
        "### Create a compute cluster\n",
        "\n",
        "We provision a Linux [compute cluster](https://learn.microsoft.com/en-us/azure/machine-learning/how-to-create-attach-compute-cluster?tabs=python) for this Notebook. See the [full list](https://azure.microsoft.com/en-ca/pricing/details/machine-learning/) on VM sizes and prices."
      ]
    },
    {
      "cell_type": "code",
      "execution_count": 3,
      "metadata": {
        "gather": {
          "logged": 1675428792174
        },
        "jupyter": {
          "outputs_hidden": false,
          "source_hidden": false
        },
        "nteract": {
          "transient": {
            "deleting": false
          }
        }
      },
      "outputs": [
        {
          "name": "stdout",
          "output_type": "stream",
          "text": [
            "You already have a cluster named nas-cpu-cluster-D14-v2, we'll reuse it as is.\n"
          ]
        }
      ],
      "source": [
        "cpu_compute_name = \"nas-cpu-cluster-D14-v2\"\n",
        "compute_cluster = aml_helper.create_compute_cluster(ml_client, cpu_compute_name)"
      ]
    },
    {
      "attachments": {},
      "cell_type": "markdown",
      "metadata": {
        "nteract": {
          "transient": {
            "deleting": false
          }
        }
      },
      "source": [
        "### Create an environment based on a YAML file\n",
        "\n",
        "Azure Machine Learning maintains a set of CPU and GPU Ubuntu Linux-based base images with common system dependencies. For the set of base images and their corresponding Dockerfiles, see the [AzureML Containers](https://github.com/Azure/AzureML-Containers) repo."
      ]
    },
    {
      "cell_type": "code",
      "execution_count": 4,
      "metadata": {
        "gather": {
          "logged": 1675428814037
        },
        "jupyter": {
          "outputs_hidden": false,
          "source_hidden": false
        },
        "nteract": {
          "transient": {
            "deleting": false
          }
        }
      },
      "outputs": [
        {
          "name": "stdout",
          "output_type": "stream",
          "text": [
            "Environment with name aml-archai is registered to workspace, the environment version is 0.0.1\n"
          ]
        }
      ],
      "source": [
        "archai_job_env = aml_helper.create_environment_from_file(ml_client,\n",
        "                                                         image=\"mcr.microsoft.com/azureml/openmpi3.1.2-ubuntu18.04:latest\",\n",
        "                                                         conda_file=\"conda.yaml\",\n",
        "                                                         version=\"0.0.1\")"
      ]
    },
    {
      "attachments": {},
      "cell_type": "markdown",
      "metadata": {
        "nteract": {
          "transient": {
            "deleting": false
          }
        }
      },
      "source": [
        "### Create job"
      ]
    },
    {
      "cell_type": "code",
      "execution_count": 5,
      "metadata": {
        "gather": {
          "logged": 1675429833672
        },
        "jupyter": {
          "outputs_hidden": false,
          "source_hidden": false
        },
        "nteract": {
          "transient": {
            "deleting": false
          }
        }
      },
      "outputs": [],
      "source": [
        "job = command(experiment_name=\"archai_quickstart\",\n",
        "              display_name=\"Archai's QuickStart\",\n",
        "              compute=cpu_compute_name,\n",
        "              environment=f\"{archai_job_env.name}:{archai_job_env.version}\",\n",
        "              code=\"main.py\",\n",
        "              outputs=dict(\n",
        "                  output_path=Output(type=\"uri_folder\", mode=\"rw_mount\")\n",
        "              ),\n",
        "              command=\"python main.py --output_dir ${{outputs.output_path}}\"\n",
        "              )"
      ]
    },
    {
      "attachments": {},
      "cell_type": "markdown",
      "metadata": {
        "nteract": {
          "transient": {
            "deleting": false
          }
        }
      },
      "source": [
        "### Run job"
      ]
    },
    {
      "cell_type": "code",
      "execution_count": 6,
      "metadata": {
        "gather": {
          "logged": 1675429838269
        },
        "jupyter": {
          "outputs_hidden": false,
          "source_hidden": false
        },
        "nteract": {
          "transient": {
            "deleting": false
          }
        }
      },
      "outputs": [
        {
          "name": "stderr",
          "output_type": "stream",
          "text": [
            "\u001b[32mUploading main.py\u001b[32m (< 1 MB): 100%|##########| 1.74k/1.74k [00:00<00:00, 6.91kB/s]\n",
            "\u001b[39m\n",
            "\n"
          ]
        }
      ],
      "source": [
        "quickstart_job = ml_client.create_or_update(job)"
      ]
    },
    {
      "attachments": {},
      "cell_type": "markdown",
      "metadata": {},
      "source": [
        "Open the job overview on Azure ML Studio in your web browser (this works when you are running this notebook in VS code)."
      ]
    },
    {
      "cell_type": "code",
      "execution_count": 7,
      "metadata": {},
      "outputs": [
        {
          "name": "stdout",
          "output_type": "stream",
          "text": [
            "Started job: busy_shampoo_cqjgwy28gc\n"
          ]
        }
      ],
      "source": [
        "import webbrowser\n",
        "webbrowser.open(quickstart_job.services[\"Studio\"].endpoint)\n",
        "\n",
        "job_name = quickstart_job.name\n",
        "print(f'Started job: {job_name}')"
      ]
    },
    {
      "attachments": {},
      "cell_type": "markdown",
      "metadata": {},
      "source": [
        "### Download job's output"
      ]
    },
    {
      "cell_type": "code",
      "execution_count": null,
      "metadata": {},
      "outputs": [],
      "source": [
        "output_name = \"output_path\"\n",
        "download_path = \"output\"\n",
        "\n",
        "aml_helper.download_job_output(ml_client, job_name=quickstart_job.name, output_name=output_name, download_path=download_path)\n",
        "\n",
        "downloaded_folder = Path(download_path) / \"named-outputs\" / output_name"
      ]
    },
    {
      "attachments": {},
      "cell_type": "markdown",
      "metadata": {},
      "source": [
        "### Show Pareto Frontiers"
      ]
    },
    {
      "cell_type": "code",
      "execution_count": 9,
      "metadata": {},
      "outputs": [
        {
          "data": {
            "image/png": "[encoded data removed]",
            "text/plain": [
              "<IPython.core.display.Image object>"
            ]
          },
          "metadata": {},
          "output_type": "display_data"
        }
      ],
      "source": [
        "param_vs_latency_img = Image(filename=downloaded_folder / \"pareto_non_embedding_params_vs_onnx_latency.png\")\n",
        "display(param_vs_latency_img)"
      ]
    },
    {
      "cell_type": "code",
      "execution_count": 10,
      "metadata": {},
      "outputs": [
        {
          "data": {
            "image/png": "[encoded data removed]",
            "text/plain": [
              "<IPython.core.display.Image object>"
            ]
          },
          "metadata": {},
          "output_type": "display_data"
        }
      ],
      "source": [
        "param_vs_memory_img = Image(filename=downloaded_folder / \"pareto_non_embedding_params_vs_onnx_memory.png\")\n",
        "display(param_vs_memory_img)"
      ]
    },
    {
      "cell_type": "code",
      "execution_count": 11,
      "metadata": {},
      "outputs": [
        {
          "data": {
            "image/png": "[encoded data removed]",
            "text/plain": [
              "<IPython.core.display.Image object>"
            ]
          },
          "metadata": {},
          "output_type": "display_data"
        }
      ],
      "source": [
        "latency_vs_memory_img = Image(filename=downloaded_folder / \"pareto_onnx_latency_vs_onnx_memory.png\")\n",
        "display(latency_vs_memory_img)"
      ]
    },
    {
      "attachments": {},
      "cell_type": "markdown",
      "metadata": {},
      "source": [
        "### Show search state of the last iteration"
      ]
    },
    {
      "cell_type": "code",
      "execution_count": 12,
      "metadata": {},
      "outputs": [
        {
          "data": {
            "text/html": [
              "<div style=\"height: 300px; overflow-y: scroll;\"><style type=\"text/css\">\n",
              "#T_b7b45_row0_col0, #T_b7b45_row0_col1, #T_b7b45_row0_col2, #T_b7b45_row0_col3, #T_b7b45_row0_col4, #T_b7b45_row0_col5, #T_b7b45_row0_col6, #T_b7b45_row1_col0, #T_b7b45_row1_col1, #T_b7b45_row1_col2, #T_b7b45_row1_col3, #T_b7b45_row1_col4, #T_b7b45_row1_col5, #T_b7b45_row1_col6, #T_b7b45_row2_col0, #T_b7b45_row2_col1, #T_b7b45_row2_col2, #T_b7b45_row2_col3, #T_b7b45_row2_col4, #T_b7b45_row2_col5, #T_b7b45_row2_col6, #T_b7b45_row3_col0, #T_b7b45_row3_col1, #T_b7b45_row3_col2, #T_b7b45_row3_col3, #T_b7b45_row3_col4, #T_b7b45_row3_col5, #T_b7b45_row3_col6, #T_b7b45_row4_col0, #T_b7b45_row4_col1, #T_b7b45_row4_col2, #T_b7b45_row4_col3, #T_b7b45_row4_col4, #T_b7b45_row4_col5, #T_b7b45_row4_col6, #T_b7b45_row5_col0, #T_b7b45_row5_col1, #T_b7b45_row5_col2, #T_b7b45_row5_col3, #T_b7b45_row5_col4, #T_b7b45_row5_col5, #T_b7b45_row5_col6, #T_b7b45_row6_col0, #T_b7b45_row6_col1, #T_b7b45_row6_col2, #T_b7b45_row6_col3, #T_b7b45_row6_col4, #T_b7b45_row6_col5, #T_b7b45_row6_col6, #T_b7b45_row7_col0, #T_b7b45_row7_col1, #T_b7b45_row7_col2, #T_b7b45_row7_col3, #T_b7b45_row7_col4, #T_b7b45_row7_col5, #T_b7b45_row7_col6, #T_b7b45_row8_col0, #T_b7b45_row8_col1, #T_b7b45_row8_col2, #T_b7b45_row8_col3, #T_b7b45_row8_col4, #T_b7b45_row8_col5, #T_b7b45_row8_col6, #T_b7b45_row9_col0, #T_b7b45_row9_col1, #T_b7b45_row9_col2, #T_b7b45_row9_col3, #T_b7b45_row9_col4, #T_b7b45_row9_col5, #T_b7b45_row9_col6, #T_b7b45_row10_col0, #T_b7b45_row10_col1, #T_b7b45_row10_col2, #T_b7b45_row10_col3, #T_b7b45_row10_col4, #T_b7b45_row10_col5, #T_b7b45_row10_col6, #T_b7b45_row11_col0, #T_b7b45_row11_col1, #T_b7b45_row11_col2, #T_b7b45_row11_col3, #T_b7b45_row11_col4, #T_b7b45_row11_col5, #T_b7b45_row11_col6, #T_b7b45_row12_col0, #T_b7b45_row12_col1, #T_b7b45_row12_col2, #T_b7b45_row12_col3, #T_b7b45_row12_col4, #T_b7b45_row12_col5, #T_b7b45_row12_col6, #T_b7b45_row13_col0, #T_b7b45_row13_col1, #T_b7b45_row13_col2, #T_b7b45_row13_col3, #T_b7b45_row13_col4, #T_b7b45_row13_col5, #T_b7b45_row13_col6, #T_b7b45_row14_col0, #T_b7b45_row14_col1, #T_b7b45_row14_col2, #T_b7b45_row14_col3, #T_b7b45_row14_col4, #T_b7b45_row14_col5, #T_b7b45_row14_col6, #T_b7b45_row15_col0, #T_b7b45_row15_col1, #T_b7b45_row15_col2, #T_b7b45_row15_col3, #T_b7b45_row15_col4, #T_b7b45_row15_col5, #T_b7b45_row15_col6, #T_b7b45_row16_col0, #T_b7b45_row16_col1, #T_b7b45_row16_col2, #T_b7b45_row16_col3, #T_b7b45_row16_col4, #T_b7b45_row16_col5, #T_b7b45_row16_col6, #T_b7b45_row17_col0, #T_b7b45_row17_col1, #T_b7b45_row17_col2, #T_b7b45_row17_col3, #T_b7b45_row17_col4, #T_b7b45_row17_col5, #T_b7b45_row17_col6, #T_b7b45_row18_col0, #T_b7b45_row18_col1, #T_b7b45_row18_col2, #T_b7b45_row18_col3, #T_b7b45_row18_col4, #T_b7b45_row18_col5, #T_b7b45_row18_col6, #T_b7b45_row19_col0, #T_b7b45_row19_col1, #T_b7b45_row19_col2, #T_b7b45_row19_col3, #T_b7b45_row19_col4, #T_b7b45_row19_col5, #T_b7b45_row19_col6, #T_b7b45_row20_col0, #T_b7b45_row20_col1, #T_b7b45_row20_col2, #T_b7b45_row20_col3, #T_b7b45_row20_col4, #T_b7b45_row20_col5, #T_b7b45_row20_col6, #T_b7b45_row21_col0, #T_b7b45_row21_col1, #T_b7b45_row21_col2, #T_b7b45_row21_col3, #T_b7b45_row21_col4, #T_b7b45_row21_col5, #T_b7b45_row21_col6, #T_b7b45_row22_col0, #T_b7b45_row22_col1, #T_b7b45_row22_col2, #T_b7b45_row22_col3, #T_b7b45_row22_col4, #T_b7b45_row22_col5, #T_b7b45_row22_col6, #T_b7b45_row23_col0, #T_b7b45_row23_col1, #T_b7b45_row23_col2, #T_b7b45_row23_col3, #T_b7b45_row23_col4, #T_b7b45_row23_col5, #T_b7b45_row23_col6, #T_b7b45_row24_col0, #T_b7b45_row24_col1, #T_b7b45_row24_col2, #T_b7b45_row24_col3, #T_b7b45_row24_col4, #T_b7b45_row24_col5, #T_b7b45_row24_col6, #T_b7b45_row25_col0, #T_b7b45_row25_col1, #T_b7b45_row25_col2, #T_b7b45_row25_col3, #T_b7b45_row25_col4, #T_b7b45_row25_col5, #T_b7b45_row25_col6, #T_b7b45_row26_col0, #T_b7b45_row26_col1, #T_b7b45_row26_col2, #T_b7b45_row26_col3, #T_b7b45_row26_col4, #T_b7b45_row26_col5, #T_b7b45_row26_col6, #T_b7b45_row27_col0, #T_b7b45_row27_col1, #T_b7b45_row27_col2, #T_b7b45_row27_col3, #T_b7b45_row27_col4, #T_b7b45_row27_col5, #T_b7b45_row27_col6, #T_b7b45_row28_col0, #T_b7b45_row28_col1, #T_b7b45_row28_col2, #T_b7b45_row28_col3, #T_b7b45_row28_col4, #T_b7b45_row28_col5, #T_b7b45_row28_col6, #T_b7b45_row29_col0, #T_b7b45_row29_col1, #T_b7b45_row29_col2, #T_b7b45_row29_col3, #T_b7b45_row29_col4, #T_b7b45_row29_col5, #T_b7b45_row29_col6, #T_b7b45_row30_col0, #T_b7b45_row30_col1, #T_b7b45_row30_col2, #T_b7b45_row30_col3, #T_b7b45_row30_col4, #T_b7b45_row30_col5, #T_b7b45_row30_col6, #T_b7b45_row31_col0, #T_b7b45_row31_col1, #T_b7b45_row31_col2, #T_b7b45_row31_col3, #T_b7b45_row31_col4, #T_b7b45_row31_col5, #T_b7b45_row31_col6, #T_b7b45_row32_col0, #T_b7b45_row32_col1, #T_b7b45_row32_col2, #T_b7b45_row32_col3, #T_b7b45_row32_col4, #T_b7b45_row32_col5, #T_b7b45_row32_col6, #T_b7b45_row33_col0, #T_b7b45_row33_col1, #T_b7b45_row33_col2, #T_b7b45_row33_col3, #T_b7b45_row33_col4, #T_b7b45_row33_col5, #T_b7b45_row33_col6, #T_b7b45_row34_col0, #T_b7b45_row34_col1, #T_b7b45_row34_col2, #T_b7b45_row34_col3, #T_b7b45_row34_col4, #T_b7b45_row34_col5, #T_b7b45_row34_col6, #T_b7b45_row35_col0, #T_b7b45_row35_col1, #T_b7b45_row35_col2, #T_b7b45_row35_col3, #T_b7b45_row35_col4, #T_b7b45_row35_col5, #T_b7b45_row35_col6, #T_b7b45_row36_col0, #T_b7b45_row36_col1, #T_b7b45_row36_col2, #T_b7b45_row36_col3, #T_b7b45_row36_col4, #T_b7b45_row36_col5, #T_b7b45_row36_col6, #T_b7b45_row37_col0, #T_b7b45_row37_col1, #T_b7b45_row37_col2, #T_b7b45_row37_col3, #T_b7b45_row37_col4, #T_b7b45_row37_col5, #T_b7b45_row37_col6, #T_b7b45_row38_col0, #T_b7b45_row38_col1, #T_b7b45_row38_col2, #T_b7b45_row38_col3, #T_b7b45_row38_col4, #T_b7b45_row38_col5, #T_b7b45_row38_col6, #T_b7b45_row39_col0, #T_b7b45_row39_col1, #T_b7b45_row39_col2, #T_b7b45_row39_col3, #T_b7b45_row39_col4, #T_b7b45_row39_col5, #T_b7b45_row39_col6, #T_b7b45_row40_col0, #T_b7b45_row40_col1, #T_b7b45_row40_col2, #T_b7b45_row40_col3, #T_b7b45_row40_col4, #T_b7b45_row40_col5, #T_b7b45_row40_col6, #T_b7b45_row41_col0, #T_b7b45_row41_col1, #T_b7b45_row41_col2, #T_b7b45_row41_col3, #T_b7b45_row41_col4, #T_b7b45_row41_col5, #T_b7b45_row41_col6, #T_b7b45_row42_col0, #T_b7b45_row42_col1, #T_b7b45_row42_col2, #T_b7b45_row42_col3, #T_b7b45_row42_col4, #T_b7b45_row42_col5, #T_b7b45_row42_col6, #T_b7b45_row43_col0, #T_b7b45_row43_col1, #T_b7b45_row43_col2, #T_b7b45_row43_col3, #T_b7b45_row43_col4, #T_b7b45_row43_col5, #T_b7b45_row43_col6, #T_b7b45_row44_col0, #T_b7b45_row44_col1, #T_b7b45_row44_col2, #T_b7b45_row44_col3, #T_b7b45_row44_col4, #T_b7b45_row44_col5, #T_b7b45_row44_col6, #T_b7b45_row45_col0, #T_b7b45_row45_col1, #T_b7b45_row45_col2, #T_b7b45_row45_col3, #T_b7b45_row45_col4, #T_b7b45_row45_col5, #T_b7b45_row45_col6, #T_b7b45_row46_col0, #T_b7b45_row46_col1, #T_b7b45_row46_col2, #T_b7b45_row46_col3, #T_b7b45_row46_col4, #T_b7b45_row46_col5, #T_b7b45_row46_col6, #T_b7b45_row47_col0, #T_b7b45_row47_col1, #T_b7b45_row47_col2, #T_b7b45_row47_col3, #T_b7b45_row47_col4, #T_b7b45_row47_col5, #T_b7b45_row47_col6, #T_b7b45_row48_col0, #T_b7b45_row48_col1, #T_b7b45_row48_col2, #T_b7b45_row48_col3, #T_b7b45_row48_col4, #T_b7b45_row48_col5, #T_b7b45_row48_col6, #T_b7b45_row49_col0, #T_b7b45_row49_col1, #T_b7b45_row49_col2, #T_b7b45_row49_col3, #T_b7b45_row49_col4, #T_b7b45_row49_col5, #T_b7b45_row49_col6, #T_b7b45_row50_col0, #T_b7b45_row50_col1, #T_b7b45_row50_col2, #T_b7b45_row50_col3, #T_b7b45_row50_col4, #T_b7b45_row50_col5, #T_b7b45_row50_col6, #T_b7b45_row51_col0, #T_b7b45_row51_col1, #T_b7b45_row51_col2, #T_b7b45_row51_col3, #T_b7b45_row51_col4, #T_b7b45_row51_col5, #T_b7b45_row51_col6, #T_b7b45_row52_col0, #T_b7b45_row52_col1, #T_b7b45_row52_col2, #T_b7b45_row52_col3, #T_b7b45_row52_col4, #T_b7b45_row52_col5, #T_b7b45_row52_col6, #T_b7b45_row53_col0, #T_b7b45_row53_col1, #T_b7b45_row53_col2, #T_b7b45_row53_col3, #T_b7b45_row53_col4, #T_b7b45_row53_col5, #T_b7b45_row53_col6, #T_b7b45_row54_col0, #T_b7b45_row54_col1, #T_b7b45_row54_col2, #T_b7b45_row54_col3, #T_b7b45_row54_col4, #T_b7b45_row54_col5, #T_b7b45_row54_col6, #T_b7b45_row55_col0, #T_b7b45_row55_col1, #T_b7b45_row55_col2, #T_b7b45_row55_col3, #T_b7b45_row55_col4, #T_b7b45_row55_col5, #T_b7b45_row55_col6, #T_b7b45_row56_col0, #T_b7b45_row56_col1, #T_b7b45_row56_col2, #T_b7b45_row56_col3, #T_b7b45_row56_col4, #T_b7b45_row56_col5, #T_b7b45_row56_col6, #T_b7b45_row57_col0, #T_b7b45_row57_col1, #T_b7b45_row57_col2, #T_b7b45_row57_col3, #T_b7b45_row57_col4, #T_b7b45_row57_col5, #T_b7b45_row57_col6, #T_b7b45_row58_col0, #T_b7b45_row58_col1, #T_b7b45_row58_col2, #T_b7b45_row58_col3, #T_b7b45_row58_col4, #T_b7b45_row58_col5, #T_b7b45_row58_col6, #T_b7b45_row59_col0, #T_b7b45_row59_col1, #T_b7b45_row59_col2, #T_b7b45_row59_col3, #T_b7b45_row59_col4, #T_b7b45_row59_col5, #T_b7b45_row59_col6, #T_b7b45_row60_col0, #T_b7b45_row60_col1, #T_b7b45_row60_col2, #T_b7b45_row60_col3, #T_b7b45_row60_col4, #T_b7b45_row60_col5, #T_b7b45_row60_col6, #T_b7b45_row61_col0, #T_b7b45_row61_col1, #T_b7b45_row61_col2, #T_b7b45_row61_col3, #T_b7b45_row61_col4, #T_b7b45_row61_col5, #T_b7b45_row61_col6, #T_b7b45_row62_col0, #T_b7b45_row62_col1, #T_b7b45_row62_col2, #T_b7b45_row62_col3, #T_b7b45_row62_col4, #T_b7b45_row62_col5, #T_b7b45_row62_col6 {\n",
              "  background-color: lightblue;\n",
              "  color: black;\n",
              "  border-color: white;\n",
              "  font-size: 12pt;\n",
              "}\n",
              "</style>\n",
              "<table id=\"T_b7b45\">\n",
              "  <thead>\n",
              "    <tr>\n",
              "      <th class=\"blank level0\" >&nbsp;</th>\n",
              "      <th id=\"T_b7b45_level0_col0\" class=\"col_heading level0 col0\" >archid</th>\n",
              "      <th id=\"T_b7b45_level0_col1\" class=\"col_heading level0 col1\" >non_embedding_params</th>\n",
              "      <th id=\"T_b7b45_level0_col2\" class=\"col_heading level0 col2\" >onnx_latency</th>\n",
              "      <th id=\"T_b7b45_level0_col3\" class=\"col_heading level0 col3\" >onnx_memory</th>\n",
              "      <th id=\"T_b7b45_level0_col4\" class=\"col_heading level0 col4\" >iteration_num</th>\n",
              "      <th id=\"T_b7b45_level0_col5\" class=\"col_heading level0 col5\" >search_walltime_hours</th>\n",
              "      <th id=\"T_b7b45_level0_col6\" class=\"col_heading level0 col6\" >is_pareto</th>\n",
              "    </tr>\n",
              "  </thead>\n",
              "  <tbody>\n",
              "    <tr>\n",
              "      <th id=\"T_b7b45_level0_row0\" class=\"row_heading level0 row0\" >0</th>\n",
              "      <td id=\"T_b7b45_row0_col0\" class=\"data row0 col0\" >gpt2_9d012fda4e2572401bcaf2a40ae64609486ad1b1</td>\n",
              "      <td id=\"T_b7b45_row0_col1\" class=\"data row0 col1\" >15144192.000000</td>\n",
              "      <td id=\"T_b7b45_row0_col2\" class=\"data row0 col2\" >0.111368</td>\n",
              "      <td id=\"T_b7b45_row0_col3\" class=\"data row0 col3\" >99.110383</td>\n",
              "      <td id=\"T_b7b45_row0_col4\" class=\"data row0 col4\" >0</td>\n",
              "      <td id=\"T_b7b45_row0_col5\" class=\"data row0 col5\" >0.043973</td>\n",
              "      <td id=\"T_b7b45_row0_col6\" class=\"data row0 col6\" >True</td>\n",
              "    </tr>\n",
              "    <tr>\n",
              "      <th id=\"T_b7b45_level0_row1\" class=\"row_heading level0 row1\" >1</th>\n",
              "      <td id=\"T_b7b45_row1_col0\" class=\"data row1 col0\" >gpt2_2ce523ffef6587e0a9790c173a89d6fd25f1b9b6</td>\n",
              "      <td id=\"T_b7b45_row1_col1\" class=\"data row1 col1\" >7769472.000000</td>\n",
              "      <td id=\"T_b7b45_row1_col2\" class=\"data row1 col2\" >0.068997</td>\n",
              "      <td id=\"T_b7b45_row1_col3\" class=\"data row1 col3\" >54.867023</td>\n",
              "      <td id=\"T_b7b45_row1_col4\" class=\"data row1 col4\" >0</td>\n",
              "      <td id=\"T_b7b45_row1_col5\" class=\"data row1 col5\" >0.043973</td>\n",
              "      <td id=\"T_b7b45_row1_col6\" class=\"data row1 col6\" >True</td>\n",
              "    </tr>\n",
              "    <tr>\n",
              "      <th id=\"T_b7b45_level0_row2\" class=\"row_heading level0 row2\" >2</th>\n",
              "      <td id=\"T_b7b45_row2_col0\" class=\"data row2 col0\" >gpt2_3a0de44149328513a2d87829af64a3caf0cda00a</td>\n",
              "      <td id=\"T_b7b45_row2_col1\" class=\"data row2 col1\" >14724096.000000</td>\n",
              "      <td id=\"T_b7b45_row2_col2\" class=\"data row2 col2\" >0.127590</td>\n",
              "      <td id=\"T_b7b45_row2_col3\" class=\"data row2 col3\" >78.704400</td>\n",
              "      <td id=\"T_b7b45_row2_col4\" class=\"data row2 col4\" >0</td>\n",
              "      <td id=\"T_b7b45_row2_col5\" class=\"data row2 col5\" >0.043973</td>\n",
              "      <td id=\"T_b7b45_row2_col6\" class=\"data row2 col6\" >False</td>\n",
              "    </tr>\n",
              "    <tr>\n",
              "      <th id=\"T_b7b45_level0_row3\" class=\"row_heading level0 row3\" >3</th>\n",
              "      <td id=\"T_b7b45_row3_col0\" class=\"data row3 col0\" >gpt2_1f64435b4c2b16e543696622d0eab28ca7a91654</td>\n",
              "      <td id=\"T_b7b45_row3_col1\" class=\"data row3 col1\" >31372992.000000</td>\n",
              "      <td id=\"T_b7b45_row3_col2\" class=\"data row3 col2\" >0.243274</td>\n",
              "      <td id=\"T_b7b45_row3_col3\" class=\"data row3 col3\" >158.277772</td>\n",
              "      <td id=\"T_b7b45_row3_col4\" class=\"data row3 col4\" >0</td>\n",
              "      <td id=\"T_b7b45_row3_col5\" class=\"data row3 col5\" >0.043973</td>\n",
              "      <td id=\"T_b7b45_row3_col6\" class=\"data row3 col6\" >False</td>\n",
              "    </tr>\n",
              "    <tr>\n",
              "      <th id=\"T_b7b45_level0_row4\" class=\"row_heading level0 row4\" >4</th>\n",
              "      <td id=\"T_b7b45_row4_col0\" class=\"data row4 col0\" >gpt2_38c27b9259337e9d1e19706d5a2a18d3207a74f4</td>\n",
              "      <td id=\"T_b7b45_row4_col1\" class=\"data row4 col1\" >27327616.000000</td>\n",
              "      <td id=\"T_b7b45_row4_col2\" class=\"data row4 col2\" >0.212588</td>\n",
              "      <td id=\"T_b7b45_row4_col3\" class=\"data row4 col3\" >140.166085</td>\n",
              "      <td id=\"T_b7b45_row4_col4\" class=\"data row4 col4\" >0</td>\n",
              "      <td id=\"T_b7b45_row4_col5\" class=\"data row4 col5\" >0.043973</td>\n",
              "      <td id=\"T_b7b45_row4_col6\" class=\"data row4 col6\" >False</td>\n",
              "    </tr>\n",
              "    <tr>\n",
              "      <th id=\"T_b7b45_level0_row5\" class=\"row_heading level0 row5\" >5</th>\n",
              "      <td id=\"T_b7b45_row5_col0\" class=\"data row5 col0\" >gpt2_e24cd64a53d6a9be4a5cf2116daee38e0763947c</td>\n",
              "      <td id=\"T_b7b45_row5_col1\" class=\"data row5 col1\" >9791616.000000</td>\n",
              "      <td id=\"T_b7b45_row5_col2\" class=\"data row5 col2\" >0.087752</td>\n",
              "      <td id=\"T_b7b45_row5_col3\" class=\"data row5 col3\" >57.236445</td>\n",
              "      <td id=\"T_b7b45_row5_col4\" class=\"data row5 col4\" >0</td>\n",
              "      <td id=\"T_b7b45_row5_col5\" class=\"data row5 col5\" >0.043973</td>\n",
              "      <td id=\"T_b7b45_row5_col6\" class=\"data row5 col6\" >True</td>\n",
              "    </tr>\n",
              "    <tr>\n",
              "      <th id=\"T_b7b45_level0_row6\" class=\"row_heading level0 row6\" >6</th>\n",
              "      <td id=\"T_b7b45_row6_col0\" class=\"data row6 col0\" >gpt2_f99008efea75c6af754c633dbf1ce910c3829261</td>\n",
              "      <td id=\"T_b7b45_row6_col1\" class=\"data row6 col1\" >2564480.000000</td>\n",
              "      <td id=\"T_b7b45_row6_col2\" class=\"data row6 col2\" >0.026018</td>\n",
              "      <td id=\"T_b7b45_row6_col3\" class=\"data row6 col3\" >43.084689</td>\n",
              "      <td id=\"T_b7b45_row6_col4\" class=\"data row6 col4\" >0</td>\n",
              "      <td id=\"T_b7b45_row6_col5\" class=\"data row6 col5\" >0.043973</td>\n",
              "      <td id=\"T_b7b45_row6_col6\" class=\"data row6 col6\" >False</td>\n",
              "    </tr>\n",
              "    <tr>\n",
              "      <th id=\"T_b7b45_level0_row7\" class=\"row_heading level0 row7\" >7</th>\n",
              "      <td id=\"T_b7b45_row7_col0\" class=\"data row7 col0\" >gpt2_ad522de7b54d7ad73231ccab52e7f8b17c444dd8</td>\n",
              "      <td id=\"T_b7b45_row7_col1\" class=\"data row7 col1\" >3154688.000000</td>\n",
              "      <td id=\"T_b7b45_row7_col2\" class=\"data row7 col2\" >0.027303</td>\n",
              "      <td id=\"T_b7b45_row7_col3\" class=\"data row7 col3\" >45.336156</td>\n",
              "      <td id=\"T_b7b45_row7_col4\" class=\"data row7 col4\" >0</td>\n",
              "      <td id=\"T_b7b45_row7_col5\" class=\"data row7 col5\" >0.043973</td>\n",
              "      <td id=\"T_b7b45_row7_col6\" class=\"data row7 col6\" >True</td>\n",
              "    </tr>\n",
              "    <tr>\n",
              "      <th id=\"T_b7b45_level0_row8\" class=\"row_heading level0 row8\" >8</th>\n",
              "      <td id=\"T_b7b45_row8_col0\" class=\"data row8 col0\" >gpt2_3b76e4046ead432cab16d17d0a3d500efc0249c5</td>\n",
              "      <td id=\"T_b7b45_row8_col1\" class=\"data row8 col1\" >1963840.000000</td>\n",
              "      <td id=\"T_b7b45_row8_col2\" class=\"data row8 col2\" >0.025981</td>\n",
              "      <td id=\"T_b7b45_row8_col3\" class=\"data row8 col3\" >13.966668</td>\n",
              "      <td id=\"T_b7b45_row8_col4\" class=\"data row8 col4\" >0</td>\n",
              "      <td id=\"T_b7b45_row8_col5\" class=\"data row8 col5\" >0.043973</td>\n",
              "      <td id=\"T_b7b45_row8_col6\" class=\"data row8 col6\" >True</td>\n",
              "    </tr>\n",
              "    <tr>\n",
              "      <th id=\"T_b7b45_level0_row9\" class=\"row_heading level0 row9\" >9</th>\n",
              "      <td id=\"T_b7b45_row9_col0\" class=\"data row9 col0\" >gpt2_56b3029ce65d7c75585e97c67a3162b6b34fd453</td>\n",
              "      <td id=\"T_b7b45_row9_col1\" class=\"data row9 col1\" >9462656.000000</td>\n",
              "      <td id=\"T_b7b45_row9_col2\" class=\"data row9 col2\" >0.077058</td>\n",
              "      <td id=\"T_b7b45_row9_col3\" class=\"data row9 col3\" >61.318761</td>\n",
              "      <td id=\"T_b7b45_row9_col4\" class=\"data row9 col4\" >0</td>\n",
              "      <td id=\"T_b7b45_row9_col5\" class=\"data row9 col5\" >0.043973</td>\n",
              "      <td id=\"T_b7b45_row9_col6\" class=\"data row9 col6\" >True</td>\n",
              "    </tr>\n",
              "    <tr>\n",
              "      <th id=\"T_b7b45_level0_row10\" class=\"row_heading level0 row10\" >10</th>\n",
              "      <td id=\"T_b7b45_row10_col0\" class=\"data row10 col0\" >gpt2_70876a6c060d29b14f71433c5be799f1b4591d95</td>\n",
              "      <td id=\"T_b7b45_row10_col1\" class=\"data row10 col1\" >1963840.000000</td>\n",
              "      <td id=\"T_b7b45_row10_col2\" class=\"data row10 col2\" >0.026605</td>\n",
              "      <td id=\"T_b7b45_row10_col3\" class=\"data row10 col3\" >13.966668</td>\n",
              "      <td id=\"T_b7b45_row10_col4\" class=\"data row10 col4\" >1</td>\n",
              "      <td id=\"T_b7b45_row10_col5\" class=\"data row10 col5\" >0.124321</td>\n",
              "      <td id=\"T_b7b45_row10_col6\" class=\"data row10 col6\" >False</td>\n",
              "    </tr>\n",
              "    <tr>\n",
              "      <th id=\"T_b7b45_level0_row11\" class=\"row_heading level0 row11\" >11</th>\n",
              "      <td id=\"T_b7b45_row11_col0\" class=\"data row11 col0\" >gpt2_fa40d2bddf02e34ebf43c0381dfa207da08c60e9</td>\n",
              "      <td id=\"T_b7b45_row11_col1\" class=\"data row11 col1\" >15144192.000000</td>\n",
              "      <td id=\"T_b7b45_row11_col2\" class=\"data row11 col2\" >0.113241</td>\n",
              "      <td id=\"T_b7b45_row11_col3\" class=\"data row11 col3\" >99.110383</td>\n",
              "      <td id=\"T_b7b45_row11_col4\" class=\"data row11 col4\" >1</td>\n",
              "      <td id=\"T_b7b45_row11_col5\" class=\"data row11 col5\" >0.124321</td>\n",
              "      <td id=\"T_b7b45_row11_col6\" class=\"data row11 col6\" >False</td>\n",
              "    </tr>\n",
              "    <tr>\n",
              "      <th id=\"T_b7b45_level0_row12\" class=\"row_heading level0 row12\" >12</th>\n",
              "      <td id=\"T_b7b45_row12_col0\" class=\"data row12 col0\" >gpt2_af14be0b4e8f8a29e744cd81c503419200e05c3a</td>\n",
              "      <td id=\"T_b7b45_row12_col1\" class=\"data row12 col1\" >2564480.000000</td>\n",
              "      <td id=\"T_b7b45_row12_col2\" class=\"data row12 col2\" >0.024791</td>\n",
              "      <td id=\"T_b7b45_row12_col3\" class=\"data row12 col3\" >43.084689</td>\n",
              "      <td id=\"T_b7b45_row12_col4\" class=\"data row12 col4\" >1</td>\n",
              "      <td id=\"T_b7b45_row12_col5\" class=\"data row12 col5\" >0.124321</td>\n",
              "      <td id=\"T_b7b45_row12_col6\" class=\"data row12 col6\" >True</td>\n",
              "    </tr>\n",
              "    <tr>\n",
              "      <th id=\"T_b7b45_level0_row13\" class=\"row_heading level0 row13\" >13</th>\n",
              "      <td id=\"T_b7b45_row13_col0\" class=\"data row13 col0\" >gpt2_08a67612ee38cccd05c47a45e137a8e82921c3c0</td>\n",
              "      <td id=\"T_b7b45_row13_col1\" class=\"data row13 col1\" >5356160.000000</td>\n",
              "      <td id=\"T_b7b45_row13_col2\" class=\"data row13 col2\" >0.055600</td>\n",
              "      <td id=\"T_b7b45_row13_col3\" class=\"data row13 col3\" >34.976172</td>\n",
              "      <td id=\"T_b7b45_row13_col4\" class=\"data row13 col4\" >1</td>\n",
              "      <td id=\"T_b7b45_row13_col5\" class=\"data row13 col5\" >0.124321</td>\n",
              "      <td id=\"T_b7b45_row13_col6\" class=\"data row13 col6\" >True</td>\n",
              "    </tr>\n",
              "    <tr>\n",
              "      <th id=\"T_b7b45_level0_row14\" class=\"row_heading level0 row14\" >14</th>\n",
              "      <td id=\"T_b7b45_row14_col0\" class=\"data row14 col0\" >gpt2_b7b529b03a5d6d8ab1293f26bd32d21f1a00459d</td>\n",
              "      <td id=\"T_b7b45_row14_col1\" class=\"data row14 col1\" >17823168.000000</td>\n",
              "      <td id=\"T_b7b45_row14_col2\" class=\"data row14 col2\" >0.134705</td>\n",
              "      <td id=\"T_b7b45_row14_col3\" class=\"data row14 col3\" >95.882224</td>\n",
              "      <td id=\"T_b7b45_row14_col4\" class=\"data row14 col4\" >1</td>\n",
              "      <td id=\"T_b7b45_row14_col5\" class=\"data row14 col5\" >0.124321</td>\n",
              "      <td id=\"T_b7b45_row14_col6\" class=\"data row14 col6\" >True</td>\n",
              "    </tr>\n",
              "    <tr>\n",
              "      <th id=\"T_b7b45_level0_row15\" class=\"row_heading level0 row15\" >15</th>\n",
              "      <td id=\"T_b7b45_row15_col0\" class=\"data row15 col0\" >gpt2_1638d1cbba003004298c9f1fec1885e1c3e724ac</td>\n",
              "      <td id=\"T_b7b45_row15_col1\" class=\"data row15 col1\" >1841408.000000</td>\n",
              "      <td id=\"T_b7b45_row15_col2\" class=\"data row15 col2\" >0.015650</td>\n",
              "      <td id=\"T_b7b45_row15_col3\" class=\"data row15 col3\" >29.566623</td>\n",
              "      <td id=\"T_b7b45_row15_col4\" class=\"data row15 col4\" >1</td>\n",
              "      <td id=\"T_b7b45_row15_col5\" class=\"data row15 col5\" >0.124321</td>\n",
              "      <td id=\"T_b7b45_row15_col6\" class=\"data row15 col6\" >True</td>\n",
              "    </tr>\n",
              "    <tr>\n",
              "      <th id=\"T_b7b45_level0_row16\" class=\"row_heading level0 row16\" >16</th>\n",
              "      <td id=\"T_b7b45_row16_col0\" class=\"data row16 col0\" >gpt2_0d34065b0addfbbba55f3de2fff1cfd585153ccd</td>\n",
              "      <td id=\"T_b7b45_row16_col1\" class=\"data row16 col1\" >9791616.000000</td>\n",
              "      <td id=\"T_b7b45_row16_col2\" class=\"data row16 col2\" >0.103346</td>\n",
              "      <td id=\"T_b7b45_row16_col3\" class=\"data row16 col3\" >57.236426</td>\n",
              "      <td id=\"T_b7b45_row16_col4\" class=\"data row16 col4\" >1</td>\n",
              "      <td id=\"T_b7b45_row16_col5\" class=\"data row16 col5\" >0.124321</td>\n",
              "      <td id=\"T_b7b45_row16_col6\" class=\"data row16 col6\" >True</td>\n",
              "    </tr>\n",
              "    <tr>\n",
              "      <th id=\"T_b7b45_level0_row17\" class=\"row_heading level0 row17\" >17</th>\n",
              "      <td id=\"T_b7b45_row17_col0\" class=\"data row17 col0\" >gpt2_a9736f6b29e56c1026b452ede20adc7b9f488ada</td>\n",
              "      <td id=\"T_b7b45_row17_col1\" class=\"data row17 col1\" >10346304.000000</td>\n",
              "      <td id=\"T_b7b45_row17_col2\" class=\"data row17 col2\" >0.077892</td>\n",
              "      <td id=\"T_b7b45_row17_col3\" class=\"data row17 col3\" >72.751252</td>\n",
              "      <td id=\"T_b7b45_row17_col4\" class=\"data row17 col4\" >1</td>\n",
              "      <td id=\"T_b7b45_row17_col5\" class=\"data row17 col5\" >0.124321</td>\n",
              "      <td id=\"T_b7b45_row17_col6\" class=\"data row17 col6\" >True</td>\n",
              "    </tr>\n",
              "    <tr>\n",
              "      <th id=\"T_b7b45_level0_row18\" class=\"row_heading level0 row18\" >18</th>\n",
              "      <td id=\"T_b7b45_row18_col0\" class=\"data row18 col0\" >gpt2_237d3f3f9383c5e8fdb8c303eb75579955fd59fa</td>\n",
              "      <td id=\"T_b7b45_row18_col1\" class=\"data row18 col1\" >25226752.000000</td>\n",
              "      <td id=\"T_b7b45_row18_col2\" class=\"data row18 col2\" >0.186148</td>\n",
              "      <td id=\"T_b7b45_row18_col3\" class=\"data row18 col3\" >129.473947</td>\n",
              "      <td id=\"T_b7b45_row18_col4\" class=\"data row18 col4\" >1</td>\n",
              "      <td id=\"T_b7b45_row18_col5\" class=\"data row18 col5\" >0.124321</td>\n",
              "      <td id=\"T_b7b45_row18_col6\" class=\"data row18 col6\" >True</td>\n",
              "    </tr>\n",
              "    <tr>\n",
              "      <th id=\"T_b7b45_level0_row19\" class=\"row_heading level0 row19\" >19</th>\n",
              "      <td id=\"T_b7b45_row19_col0\" class=\"data row19 col0\" >gpt2_35dc3c85cfeb893d23399a0d0c087ae53f718323</td>\n",
              "      <td id=\"T_b7b45_row19_col1\" class=\"data row19 col1\" >1782528.000000</td>\n",
              "      <td id=\"T_b7b45_row19_col2\" class=\"data row19 col2\" >0.018778</td>\n",
              "      <td id=\"T_b7b45_row19_col3\" class=\"data row19 col3\" >15.950404</td>\n",
              "      <td id=\"T_b7b45_row19_col4\" class=\"data row19 col4\" >1</td>\n",
              "      <td id=\"T_b7b45_row19_col5\" class=\"data row19 col5\" >0.124321</td>\n",
              "      <td id=\"T_b7b45_row19_col6\" class=\"data row19 col6\" >True</td>\n",
              "    </tr>\n",
              "    <tr>\n",
              "      <th id=\"T_b7b45_level0_row20\" class=\"row_heading level0 row20\" >20</th>\n",
              "      <td id=\"T_b7b45_row20_col0\" class=\"data row20 col0\" >gpt2_669ee3d05267ef44050148565cf4f7d2e4d01702</td>\n",
              "      <td id=\"T_b7b45_row20_col1\" class=\"data row20 col1\" >12426112.000000</td>\n",
              "      <td id=\"T_b7b45_row20_col2\" class=\"data row20 col2\" >0.105458</td>\n",
              "      <td id=\"T_b7b45_row20_col3\" class=\"data row20 col3\" >67.262000</td>\n",
              "      <td id=\"T_b7b45_row20_col4\" class=\"data row20 col4\" >1</td>\n",
              "      <td id=\"T_b7b45_row20_col5\" class=\"data row20 col5\" >0.124321</td>\n",
              "      <td id=\"T_b7b45_row20_col6\" class=\"data row20 col6\" >True</td>\n",
              "    </tr>\n",
              "    <tr>\n",
              "      <th id=\"T_b7b45_level0_row21\" class=\"row_heading level0 row21\" >21</th>\n",
              "      <td id=\"T_b7b45_row21_col0\" class=\"data row21 col0\" >gpt2_28da7985d4ede9c5e00d26fbcc0f1398a6501d49</td>\n",
              "      <td id=\"T_b7b45_row21_col1\" class=\"data row21 col1\" >31590016.000000</td>\n",
              "      <td id=\"T_b7b45_row21_col2\" class=\"data row21 col2\" >0.232889</td>\n",
              "      <td id=\"T_b7b45_row21_col3\" class=\"data row21 col3\" >156.417336</td>\n",
              "      <td id=\"T_b7b45_row21_col4\" class=\"data row21 col4\" >1</td>\n",
              "      <td id=\"T_b7b45_row21_col5\" class=\"data row21 col5\" >0.124321</td>\n",
              "      <td id=\"T_b7b45_row21_col6\" class=\"data row21 col6\" >True</td>\n",
              "    </tr>\n",
              "    <tr>\n",
              "      <th id=\"T_b7b45_level0_row22\" class=\"row_heading level0 row22\" >22</th>\n",
              "      <td id=\"T_b7b45_row22_col0\" class=\"data row22 col0\" >gpt2_6deb58d54920b133e8c87a0c00ba503caa423a44</td>\n",
              "      <td id=\"T_b7b45_row22_col1\" class=\"data row22 col1\" >6503936.000000</td>\n",
              "      <td id=\"T_b7b45_row22_col2\" class=\"data row22 col2\" >0.054664</td>\n",
              "      <td id=\"T_b7b45_row22_col3\" class=\"data row22 col3\" >55.414674</td>\n",
              "      <td id=\"T_b7b45_row22_col4\" class=\"data row22 col4\" >1</td>\n",
              "      <td id=\"T_b7b45_row22_col5\" class=\"data row22 col5\" >0.124321</td>\n",
              "      <td id=\"T_b7b45_row22_col6\" class=\"data row22 col6\" >False</td>\n",
              "    </tr>\n",
              "    <tr>\n",
              "      <th id=\"T_b7b45_level0_row23\" class=\"row_heading level0 row23\" >23</th>\n",
              "      <td id=\"T_b7b45_row23_col0\" class=\"data row23 col0\" >gpt2_49d99f06ad70afece175610b82e4b9f69a367d07</td>\n",
              "      <td id=\"T_b7b45_row23_col1\" class=\"data row23 col1\" >1185408.000000</td>\n",
              "      <td id=\"T_b7b45_row23_col2\" class=\"data row23 col2\" >0.015044</td>\n",
              "      <td id=\"T_b7b45_row23_col3\" class=\"data row23 col3\" >27.064179</td>\n",
              "      <td id=\"T_b7b45_row23_col4\" class=\"data row23 col4\" >1</td>\n",
              "      <td id=\"T_b7b45_row23_col5\" class=\"data row23 col5\" >0.124321</td>\n",
              "      <td id=\"T_b7b45_row23_col6\" class=\"data row23 col6\" >True</td>\n",
              "    </tr>\n",
              "    <tr>\n",
              "      <th id=\"T_b7b45_level0_row24\" class=\"row_heading level0 row24\" >24</th>\n",
              "      <td id=\"T_b7b45_row24_col0\" class=\"data row24 col0\" >gpt2_b4d3153435835a65953bc2c478276af4d4a9dc00</td>\n",
              "      <td id=\"T_b7b45_row24_col1\" class=\"data row24 col1\" >23652864.000000</td>\n",
              "      <td id=\"T_b7b45_row24_col2\" class=\"data row24 col2\" >0.180552</td>\n",
              "      <td id=\"T_b7b45_row24_col3\" class=\"data row24 col3\" >123.473458</td>\n",
              "      <td id=\"T_b7b45_row24_col4\" class=\"data row24 col4\" >1</td>\n",
              "      <td id=\"T_b7b45_row24_col5\" class=\"data row24 col5\" >0.124321</td>\n",
              "      <td id=\"T_b7b45_row24_col6\" class=\"data row24 col6\" >True</td>\n",
              "    </tr>\n",
              "    <tr>\n",
              "      <th id=\"T_b7b45_level0_row25\" class=\"row_heading level0 row25\" >25</th>\n",
              "      <td id=\"T_b7b45_row25_col0\" class=\"data row25 col0\" >gpt2_60c75aa849b1cf5121e26de35322ea541703f6ec</td>\n",
              "      <td id=\"T_b7b45_row25_col1\" class=\"data row25 col1\" >7769472.000000</td>\n",
              "      <td id=\"T_b7b45_row25_col2\" class=\"data row25 col2\" >0.069563</td>\n",
              "      <td id=\"T_b7b45_row25_col3\" class=\"data row25 col3\" >54.867023</td>\n",
              "      <td id=\"T_b7b45_row25_col4\" class=\"data row25 col4\" >1</td>\n",
              "      <td id=\"T_b7b45_row25_col5\" class=\"data row25 col5\" >0.124321</td>\n",
              "      <td id=\"T_b7b45_row25_col6\" class=\"data row25 col6\" >False</td>\n",
              "    </tr>\n",
              "    <tr>\n",
              "      <th id=\"T_b7b45_level0_row26\" class=\"row_heading level0 row26\" >26</th>\n",
              "      <td id=\"T_b7b45_row26_col0\" class=\"data row26 col0\" >gpt2_54c7abfbed9d76ab055b90143e1538b0ce2b0d85</td>\n",
              "      <td id=\"T_b7b45_row26_col1\" class=\"data row26 col1\" >9462656.000000</td>\n",
              "      <td id=\"T_b7b45_row26_col2\" class=\"data row26 col2\" >0.083929</td>\n",
              "      <td id=\"T_b7b45_row26_col3\" class=\"data row26 col3\" >61.318753</td>\n",
              "      <td id=\"T_b7b45_row26_col4\" class=\"data row26 col4\" >1</td>\n",
              "      <td id=\"T_b7b45_row26_col5\" class=\"data row26 col5\" >0.124321</td>\n",
              "      <td id=\"T_b7b45_row26_col6\" class=\"data row26 col6\" >False</td>\n",
              "    </tr>\n",
              "    <tr>\n",
              "      <th id=\"T_b7b45_level0_row27\" class=\"row_heading level0 row27\" >27</th>\n",
              "      <td id=\"T_b7b45_row27_col0\" class=\"data row27 col0\" >gpt2_cc67b48d63a047638675c45f7e434f036841c446</td>\n",
              "      <td id=\"T_b7b45_row27_col1\" class=\"data row27 col1\" >20277184.000000</td>\n",
              "      <td id=\"T_b7b45_row27_col2\" class=\"data row27 col2\" >0.144748</td>\n",
              "      <td id=\"T_b7b45_row27_col3\" class=\"data row27 col3\" >113.296006</td>\n",
              "      <td id=\"T_b7b45_row27_col4\" class=\"data row27 col4\" >1</td>\n",
              "      <td id=\"T_b7b45_row27_col5\" class=\"data row27 col5\" >0.124321</td>\n",
              "      <td id=\"T_b7b45_row27_col6\" class=\"data row27 col6\" >True</td>\n",
              "    </tr>\n",
              "    <tr>\n",
              "      <th id=\"T_b7b45_level0_row28\" class=\"row_heading level0 row28\" >28</th>\n",
              "      <td id=\"T_b7b45_row28_col0\" class=\"data row28 col0\" >gpt2_b730534746ad2df20c536e0192e83beee58d58a5</td>\n",
              "      <td id=\"T_b7b45_row28_col1\" class=\"data row28 col1\" >3154688.000000</td>\n",
              "      <td id=\"T_b7b45_row28_col2\" class=\"data row28 col2\" >0.027720</td>\n",
              "      <td id=\"T_b7b45_row28_col3\" class=\"data row28 col3\" >45.336156</td>\n",
              "      <td id=\"T_b7b45_row28_col4\" class=\"data row28 col4\" >1</td>\n",
              "      <td id=\"T_b7b45_row28_col5\" class=\"data row28 col5\" >0.124321</td>\n",
              "      <td id=\"T_b7b45_row28_col6\" class=\"data row28 col6\" >False</td>\n",
              "    </tr>\n",
              "    <tr>\n",
              "      <th id=\"T_b7b45_level0_row29\" class=\"row_heading level0 row29\" >29</th>\n",
              "      <td id=\"T_b7b45_row29_col0\" class=\"data row29 col0\" >gpt2_6dcd8caf6477c3554cefa5a9629f2778e31582e8</td>\n",
              "      <td id=\"T_b7b45_row29_col1\" class=\"data row29 col1\" >6409472.000000</td>\n",
              "      <td id=\"T_b7b45_row29_col2\" class=\"data row29 col2\" >0.054197</td>\n",
              "      <td id=\"T_b7b45_row29_col3\" class=\"data row29 col3\" >52.364760</td>\n",
              "      <td id=\"T_b7b45_row29_col4\" class=\"data row29 col4\" >1</td>\n",
              "      <td id=\"T_b7b45_row29_col5\" class=\"data row29 col5\" >0.124321</td>\n",
              "      <td id=\"T_b7b45_row29_col6\" class=\"data row29 col6\" >True</td>\n",
              "    </tr>\n",
              "    <tr>\n",
              "      <th id=\"T_b7b45_level0_row30\" class=\"row_heading level0 row30\" >30</th>\n",
              "      <td id=\"T_b7b45_row30_col0\" class=\"data row30 col0\" >gpt2_6115d7e3a8d8e20b276e84d08528d8d24cb4f9eb</td>\n",
              "      <td id=\"T_b7b45_row30_col1\" class=\"data row30 col1\" >14724096.000000</td>\n",
              "      <td id=\"T_b7b45_row30_col2\" class=\"data row30 col2\" >0.118962</td>\n",
              "      <td id=\"T_b7b45_row30_col3\" class=\"data row30 col3\" >78.704400</td>\n",
              "      <td id=\"T_b7b45_row30_col4\" class=\"data row30 col4\" >2</td>\n",
              "      <td id=\"T_b7b45_row30_col5\" class=\"data row30 col5\" >0.315081</td>\n",
              "      <td id=\"T_b7b45_row30_col6\" class=\"data row30 col6\" >False</td>\n",
              "    </tr>\n",
              "    <tr>\n",
              "      <th id=\"T_b7b45_level0_row31\" class=\"row_heading level0 row31\" >31</th>\n",
              "      <td id=\"T_b7b45_row31_col0\" class=\"data row31 col0\" >gpt2_adcecc4a73970b5ceaf61c5a20c6e2fc914bebbf</td>\n",
              "      <td id=\"T_b7b45_row31_col1\" class=\"data row31 col1\" >1683328.000000</td>\n",
              "      <td id=\"T_b7b45_row31_col2\" class=\"data row31 col2\" >0.018393</td>\n",
              "      <td id=\"T_b7b45_row31_col3\" class=\"data row31 col3\" >12.884486</td>\n",
              "      <td id=\"T_b7b45_row31_col4\" class=\"data row31 col4\" >2</td>\n",
              "      <td id=\"T_b7b45_row31_col5\" class=\"data row31 col5\" >0.315081</td>\n",
              "      <td id=\"T_b7b45_row31_col6\" class=\"data row31 col6\" >True</td>\n",
              "    </tr>\n",
              "    <tr>\n",
              "      <th id=\"T_b7b45_level0_row32\" class=\"row_heading level0 row32\" >32</th>\n",
              "      <td id=\"T_b7b45_row32_col0\" class=\"data row32 col0\" >gpt2_f32e9281396ca7b3755b6a1f04df187d37df16ea</td>\n",
              "      <td id=\"T_b7b45_row32_col1\" class=\"data row32 col1\" >29032576.000000</td>\n",
              "      <td id=\"T_b7b45_row32_col2\" class=\"data row32 col2\" >0.213099</td>\n",
              "      <td id=\"T_b7b45_row32_col3\" class=\"data row32 col3\" >146.666574</td>\n",
              "      <td id=\"T_b7b45_row32_col4\" class=\"data row32 col4\" >2</td>\n",
              "      <td id=\"T_b7b45_row32_col5\" class=\"data row32 col5\" >0.315081</td>\n",
              "      <td id=\"T_b7b45_row32_col6\" class=\"data row32 col6\" >True</td>\n",
              "    </tr>\n",
              "    <tr>\n",
              "      <th id=\"T_b7b45_level0_row33\" class=\"row_heading level0 row33\" >33</th>\n",
              "      <td id=\"T_b7b45_row33_col0\" class=\"data row33 col0\" >gpt2_ea6fcf50e01df27f5065286f64d3d4fd086ad1f6</td>\n",
              "      <td id=\"T_b7b45_row33_col1\" class=\"data row33 col1\" >6908352.000000</td>\n",
              "      <td id=\"T_b7b45_row33_col2\" class=\"data row33 col2\" >0.062050</td>\n",
              "      <td id=\"T_b7b45_row33_col3\" class=\"data row33 col3\" >40.857306</td>\n",
              "      <td id=\"T_b7b45_row33_col4\" class=\"data row33 col4\" >2</td>\n",
              "      <td id=\"T_b7b45_row33_col5\" class=\"data row33 col5\" >0.315081</td>\n",
              "      <td id=\"T_b7b45_row33_col6\" class=\"data row33 col6\" >True</td>\n",
              "    </tr>\n",
              "    <tr>\n",
              "      <th id=\"T_b7b45_level0_row34\" class=\"row_heading level0 row34\" >34</th>\n",
              "      <td id=\"T_b7b45_row34_col0\" class=\"data row34 col0\" >gpt2_3df377a7c2f287c0396798d69587be4ce80eb065</td>\n",
              "      <td id=\"T_b7b45_row34_col1\" class=\"data row34 col1\" >9476096.000000</td>\n",
              "      <td id=\"T_b7b45_row34_col2\" class=\"data row34 col2\" >0.082323</td>\n",
              "      <td id=\"T_b7b45_row34_col3\" class=\"data row34 col3\" >58.701959</td>\n",
              "      <td id=\"T_b7b45_row34_col4\" class=\"data row34 col4\" >2</td>\n",
              "      <td id=\"T_b7b45_row34_col5\" class=\"data row34 col5\" >0.315081</td>\n",
              "      <td id=\"T_b7b45_row34_col6\" class=\"data row34 col6\" >True</td>\n",
              "    </tr>\n",
              "    <tr>\n",
              "      <th id=\"T_b7b45_level0_row35\" class=\"row_heading level0 row35\" >35</th>\n",
              "      <td id=\"T_b7b45_row35_col0\" class=\"data row35 col0\" >gpt2_5825b8567da483715267609a45897741217c7358</td>\n",
              "      <td id=\"T_b7b45_row35_col1\" class=\"data row35 col1\" >9194496.000000</td>\n",
              "      <td id=\"T_b7b45_row35_col2\" class=\"data row35 col2\" >0.069051</td>\n",
              "      <td id=\"T_b7b45_row35_col3\" class=\"data row35 col3\" >73.742070</td>\n",
              "      <td id=\"T_b7b45_row35_col4\" class=\"data row35 col4\" >2</td>\n",
              "      <td id=\"T_b7b45_row35_col5\" class=\"data row35 col5\" >0.315081</td>\n",
              "      <td id=\"T_b7b45_row35_col6\" class=\"data row35 col6\" >True</td>\n",
              "    </tr>\n",
              "    <tr>\n",
              "      <th id=\"T_b7b45_level0_row36\" class=\"row_heading level0 row36\" >36</th>\n",
              "      <td id=\"T_b7b45_row36_col0\" class=\"data row36 col0\" >gpt2_4a9ce8bab67615ba190edc28b113876134fbb487</td>\n",
              "      <td id=\"T_b7b45_row36_col1\" class=\"data row36 col1\" >17823168.000000</td>\n",
              "      <td id=\"T_b7b45_row36_col2\" class=\"data row36 col2\" >0.137837</td>\n",
              "      <td id=\"T_b7b45_row36_col3\" class=\"data row36 col3\" >95.882211</td>\n",
              "      <td id=\"T_b7b45_row36_col4\" class=\"data row36 col4\" >2</td>\n",
              "      <td id=\"T_b7b45_row36_col5\" class=\"data row36 col5\" >0.315081</td>\n",
              "      <td id=\"T_b7b45_row36_col6\" class=\"data row36 col6\" >True</td>\n",
              "    </tr>\n",
              "    <tr>\n",
              "      <th id=\"T_b7b45_level0_row37\" class=\"row_heading level0 row37\" >37</th>\n",
              "      <td id=\"T_b7b45_row37_col0\" class=\"data row37 col0\" >gpt2_83c27c136a42d5a7933ef8394236dc70adf07fdf</td>\n",
              "      <td id=\"T_b7b45_row37_col1\" class=\"data row37 col1\" >1782528.000000</td>\n",
              "      <td id=\"T_b7b45_row37_col2\" class=\"data row37 col2\" >0.021613</td>\n",
              "      <td id=\"T_b7b45_row37_col3\" class=\"data row37 col3\" >15.950404</td>\n",
              "      <td id=\"T_b7b45_row37_col4\" class=\"data row37 col4\" >2</td>\n",
              "      <td id=\"T_b7b45_row37_col5\" class=\"data row37 col5\" >0.315081</td>\n",
              "      <td id=\"T_b7b45_row37_col6\" class=\"data row37 col6\" >False</td>\n",
              "    </tr>\n",
              "    <tr>\n",
              "      <th id=\"T_b7b45_level0_row38\" class=\"row_heading level0 row38\" >38</th>\n",
              "      <td id=\"T_b7b45_row38_col0\" class=\"data row38 col0\" >gpt2_1b55c333a06a31b8c3f5dee0be477bff60961b27</td>\n",
              "      <td id=\"T_b7b45_row38_col1\" class=\"data row38 col1\" >7109376.000000</td>\n",
              "      <td id=\"T_b7b45_row38_col2\" class=\"data row38 col2\" >0.062521</td>\n",
              "      <td id=\"T_b7b45_row38_col3\" class=\"data row38 col3\" >44.316129</td>\n",
              "      <td id=\"T_b7b45_row38_col4\" class=\"data row38 col4\" >2</td>\n",
              "      <td id=\"T_b7b45_row38_col5\" class=\"data row38 col5\" >0.315081</td>\n",
              "      <td id=\"T_b7b45_row38_col6\" class=\"data row38 col6\" >True</td>\n",
              "    </tr>\n",
              "    <tr>\n",
              "      <th id=\"T_b7b45_level0_row39\" class=\"row_heading level0 row39\" >39</th>\n",
              "      <td id=\"T_b7b45_row39_col0\" class=\"data row39 col0\" >gpt2_1a1cf300c27ca03df02101a8426746712111ac7f</td>\n",
              "      <td id=\"T_b7b45_row39_col1\" class=\"data row39 col1\" >15633152.000000</td>\n",
              "      <td id=\"T_b7b45_row39_col2\" class=\"data row39 col2\" >0.126750</td>\n",
              "      <td id=\"T_b7b45_row39_col3\" class=\"data row39 col3\" >98.279950</td>\n",
              "      <td id=\"T_b7b45_row39_col4\" class=\"data row39 col4\" >2</td>\n",
              "      <td id=\"T_b7b45_row39_col5\" class=\"data row39 col5\" >0.315081</td>\n",
              "      <td id=\"T_b7b45_row39_col6\" class=\"data row39 col6\" >True</td>\n",
              "    </tr>\n",
              "    <tr>\n",
              "      <th id=\"T_b7b45_level0_row40\" class=\"row_heading level0 row40\" >40</th>\n",
              "      <td id=\"T_b7b45_row40_col0\" class=\"data row40 col0\" >gpt2_916b58164774f6f0c05390994bb28745b694856a</td>\n",
              "      <td id=\"T_b7b45_row40_col1\" class=\"data row40 col1\" >21289536.000000</td>\n",
              "      <td id=\"T_b7b45_row40_col2\" class=\"data row40 col2\" >0.158271</td>\n",
              "      <td id=\"T_b7b45_row40_col3\" class=\"data row40 col3\" >106.417201</td>\n",
              "      <td id=\"T_b7b45_row40_col4\" class=\"data row40 col4\" >2</td>\n",
              "      <td id=\"T_b7b45_row40_col5\" class=\"data row40 col5\" >0.315081</td>\n",
              "      <td id=\"T_b7b45_row40_col6\" class=\"data row40 col6\" >True</td>\n",
              "    </tr>\n",
              "    <tr>\n",
              "      <th id=\"T_b7b45_level0_row41\" class=\"row_heading level0 row41\" >41</th>\n",
              "      <td id=\"T_b7b45_row41_col0\" class=\"data row41 col0\" >gpt2_d1db0b435eda38b77e45287bcfe1985615e8f15c</td>\n",
              "      <td id=\"T_b7b45_row41_col1\" class=\"data row41 col1\" >18902400.000000</td>\n",
              "      <td id=\"T_b7b45_row41_col2\" class=\"data row41 col2\" >0.157478</td>\n",
              "      <td id=\"T_b7b45_row41_col3\" class=\"data row41 col3\" >100.001828</td>\n",
              "      <td id=\"T_b7b45_row41_col4\" class=\"data row41 col4\" >2</td>\n",
              "      <td id=\"T_b7b45_row41_col5\" class=\"data row41 col5\" >0.315081</td>\n",
              "      <td id=\"T_b7b45_row41_col6\" class=\"data row41 col6\" >True</td>\n",
              "    </tr>\n",
              "    <tr>\n",
              "      <th id=\"T_b7b45_level0_row42\" class=\"row_heading level0 row42\" >42</th>\n",
              "      <td id=\"T_b7b45_row42_col0\" class=\"data row42 col0\" >gpt2_6f1494e13898235ea0abfee60f651e972ad7c15f</td>\n",
              "      <td id=\"T_b7b45_row42_col1\" class=\"data row42 col1\" >8138432.000000</td>\n",
              "      <td id=\"T_b7b45_row42_col2\" class=\"data row42 col2\" >0.071064</td>\n",
              "      <td id=\"T_b7b45_row42_col3\" class=\"data row42 col3\" >56.273517</td>\n",
              "      <td id=\"T_b7b45_row42_col4\" class=\"data row42 col4\" >2</td>\n",
              "      <td id=\"T_b7b45_row42_col5\" class=\"data row42 col5\" >0.315081</td>\n",
              "      <td id=\"T_b7b45_row42_col6\" class=\"data row42 col6\" >True</td>\n",
              "    </tr>\n",
              "    <tr>\n",
              "      <th id=\"T_b7b45_level0_row43\" class=\"row_heading level0 row43\" >43</th>\n",
              "      <td id=\"T_b7b45_row43_col0\" class=\"data row43 col0\" >gpt2_41cdc9cbb2feb44cef088c6252a90cfcd06ba438</td>\n",
              "      <td id=\"T_b7b45_row43_col1\" class=\"data row43 col1\" >20277184.000000</td>\n",
              "      <td id=\"T_b7b45_row43_col2\" class=\"data row43 col2\" >0.156937</td>\n",
              "      <td id=\"T_b7b45_row43_col3\" class=\"data row43 col3\" >113.296006</td>\n",
              "      <td id=\"T_b7b45_row43_col4\" class=\"data row43 col4\" >2</td>\n",
              "      <td id=\"T_b7b45_row43_col5\" class=\"data row43 col5\" >0.315081</td>\n",
              "      <td id=\"T_b7b45_row43_col6\" class=\"data row43 col6\" >False</td>\n",
              "    </tr>\n",
              "    <tr>\n",
              "      <th id=\"T_b7b45_level0_row44\" class=\"row_heading level0 row44\" >44</th>\n",
              "      <td id=\"T_b7b45_row44_col0\" class=\"data row44 col0\" >gpt2_05bb7d11f19a7864283f4a4c48d205a71bbc0cca</td>\n",
              "      <td id=\"T_b7b45_row44_col1\" class=\"data row44 col1\" >5295232.000000</td>\n",
              "      <td id=\"T_b7b45_row44_col2\" class=\"data row44 col2\" >0.048272</td>\n",
              "      <td id=\"T_b7b45_row44_col3\" class=\"data row44 col3\" >61.571509</td>\n",
              "      <td id=\"T_b7b45_row44_col4\" class=\"data row44 col4\" >2</td>\n",
              "      <td id=\"T_b7b45_row44_col5\" class=\"data row44 col5\" >0.315081</td>\n",
              "      <td id=\"T_b7b45_row44_col6\" class=\"data row44 col6\" >True</td>\n",
              "    </tr>\n",
              "    <tr>\n",
              "      <th id=\"T_b7b45_level0_row45\" class=\"row_heading level0 row45\" >45</th>\n",
              "      <td id=\"T_b7b45_row45_col0\" class=\"data row45 col0\" >gpt2_88d96623f6fba1aef736f1eebfde662ebd2dc91c</td>\n",
              "      <td id=\"T_b7b45_row45_col1\" class=\"data row45 col1\" >10352192.000000</td>\n",
              "      <td id=\"T_b7b45_row45_col2\" class=\"data row45 col2\" >0.086744</td>\n",
              "      <td id=\"T_b7b45_row45_col3\" class=\"data row45 col3\" >64.712472</td>\n",
              "      <td id=\"T_b7b45_row45_col4\" class=\"data row45 col4\" >2</td>\n",
              "      <td id=\"T_b7b45_row45_col5\" class=\"data row45 col5\" >0.315081</td>\n",
              "      <td id=\"T_b7b45_row45_col6\" class=\"data row45 col6\" >True</td>\n",
              "    </tr>\n",
              "    <tr>\n",
              "      <th id=\"T_b7b45_level0_row46\" class=\"row_heading level0 row46\" >46</th>\n",
              "      <td id=\"T_b7b45_row46_col0\" class=\"data row46 col0\" >gpt2_ae2c6aa8c598099794b816a277e0cc9b89dc4dfc</td>\n",
              "      <td id=\"T_b7b45_row46_col1\" class=\"data row46 col1\" >12624896.000000</td>\n",
              "      <td id=\"T_b7b45_row46_col2\" class=\"data row46 col2\" >0.106403</td>\n",
              "      <td id=\"T_b7b45_row46_col3\" class=\"data row46 col3\" >70.701385</td>\n",
              "      <td id=\"T_b7b45_row46_col4\" class=\"data row46 col4\" >2</td>\n",
              "      <td id=\"T_b7b45_row46_col5\" class=\"data row46 col5\" >0.315081</td>\n",
              "      <td id=\"T_b7b45_row46_col6\" class=\"data row46 col6\" >True</td>\n",
              "    </tr>\n",
              "    <tr>\n",
              "      <th id=\"T_b7b45_level0_row47\" class=\"row_heading level0 row47\" >47</th>\n",
              "      <td id=\"T_b7b45_row47_col0\" class=\"data row47 col0\" >gpt2_6a9f5e42a83a2d235a24117ee17b2a56d87c70f1</td>\n",
              "      <td id=\"T_b7b45_row47_col1\" class=\"data row47 col1\" >15379200.000000</td>\n",
              "      <td id=\"T_b7b45_row47_col2\" class=\"data row47 col2\" >0.126653</td>\n",
              "      <td id=\"T_b7b45_row47_col3\" class=\"data row47 col3\" >91.933095</td>\n",
              "      <td id=\"T_b7b45_row47_col4\" class=\"data row47 col4\" >2</td>\n",
              "      <td id=\"T_b7b45_row47_col5\" class=\"data row47 col5\" >0.315081</td>\n",
              "      <td id=\"T_b7b45_row47_col6\" class=\"data row47 col6\" >True</td>\n",
              "    </tr>\n",
              "    <tr>\n",
              "      <th id=\"T_b7b45_level0_row48\" class=\"row_heading level0 row48\" >48</th>\n",
              "      <td id=\"T_b7b45_row48_col0\" class=\"data row48 col0\" >gpt2_efb1b085a91f4934d32a7fbf490a1ff3cc7f294c</td>\n",
              "      <td id=\"T_b7b45_row48_col1\" class=\"data row48 col1\" >27587584.000000</td>\n",
              "      <td id=\"T_b7b45_row48_col2\" class=\"data row48 col2\" >0.197607</td>\n",
              "      <td id=\"T_b7b45_row48_col3\" class=\"data row48 col3\" >138.474710</td>\n",
              "      <td id=\"T_b7b45_row48_col4\" class=\"data row48 col4\" >2</td>\n",
              "      <td id=\"T_b7b45_row48_col5\" class=\"data row48 col5\" >0.315081</td>\n",
              "      <td id=\"T_b7b45_row48_col6\" class=\"data row48 col6\" >True</td>\n",
              "    </tr>\n",
              "    <tr>\n",
              "      <th id=\"T_b7b45_level0_row49\" class=\"row_heading level0 row49\" >49</th>\n",
              "      <td id=\"T_b7b45_row49_col0\" class=\"data row49 col0\" >gpt2_871513edb267bf075c8a397fbf3780d1fba21ae2</td>\n",
              "      <td id=\"T_b7b45_row49_col1\" class=\"data row49 col1\" >26614656.000000</td>\n",
              "      <td id=\"T_b7b45_row49_col2\" class=\"data row49 col2\" >0.209540</td>\n",
              "      <td id=\"T_b7b45_row49_col3\" class=\"data row49 col3\" >134.762101</td>\n",
              "      <td id=\"T_b7b45_row49_col4\" class=\"data row49 col4\" >2</td>\n",
              "      <td id=\"T_b7b45_row49_col5\" class=\"data row49 col5\" >0.315081</td>\n",
              "      <td id=\"T_b7b45_row49_col6\" class=\"data row49 col6\" >True</td>\n",
              "    </tr>\n",
              "    <tr>\n",
              "      <th id=\"T_b7b45_level0_row50\" class=\"row_heading level0 row50\" >50</th>\n",
              "      <td id=\"T_b7b45_row50_col0\" class=\"data row50 col0\" >gpt2_cd65e50d533386b59f68d9b8c68fa4f5f9caae7f</td>\n",
              "      <td id=\"T_b7b45_row50_col1\" class=\"data row50 col1\" >32499456.000000</td>\n",
              "      <td id=\"T_b7b45_row50_col2\" class=\"data row50 col2\" >0.229329</td>\n",
              "      <td id=\"T_b7b45_row50_col3\" class=\"data row50 col3\" >165.263928</td>\n",
              "      <td id=\"T_b7b45_row50_col4\" class=\"data row50 col4\" >2</td>\n",
              "      <td id=\"T_b7b45_row50_col5\" class=\"data row50 col5\" >0.315081</td>\n",
              "      <td id=\"T_b7b45_row50_col6\" class=\"data row50 col6\" >True</td>\n",
              "    </tr>\n",
              "    <tr>\n",
              "      <th id=\"T_b7b45_level0_row51\" class=\"row_heading level0 row51\" >51</th>\n",
              "      <td id=\"T_b7b45_row51_col0\" class=\"data row51 col0\" >gpt2_ee00d185ef96263c2ed81d76f6ea9ac303a5dc48</td>\n",
              "      <td id=\"T_b7b45_row51_col1\" class=\"data row51 col1\" >12823808.000000</td>\n",
              "      <td id=\"T_b7b45_row51_col2\" class=\"data row51 col2\" >0.113591</td>\n",
              "      <td id=\"T_b7b45_row51_col3\" class=\"data row51 col3\" >66.108966</td>\n",
              "      <td id=\"T_b7b45_row51_col4\" class=\"data row51 col4\" >2</td>\n",
              "      <td id=\"T_b7b45_row51_col5\" class=\"data row51 col5\" >0.315081</td>\n",
              "      <td id=\"T_b7b45_row51_col6\" class=\"data row51 col6\" >True</td>\n",
              "    </tr>\n",
              "    <tr>\n",
              "      <th id=\"T_b7b45_level0_row52\" class=\"row_heading level0 row52\" >52</th>\n",
              "      <td id=\"T_b7b45_row52_col0\" class=\"data row52 col0\" >gpt2_cc745fafec97887cfbd9583cd89c276805121d14</td>\n",
              "      <td id=\"T_b7b45_row52_col1\" class=\"data row52 col1\" >8575680.000000</td>\n",
              "      <td id=\"T_b7b45_row52_col2\" class=\"data row52 col2\" >0.069086</td>\n",
              "      <td id=\"T_b7b45_row52_col3\" class=\"data row52 col3\" >65.999776</td>\n",
              "      <td id=\"T_b7b45_row52_col4\" class=\"data row52 col4\" >2</td>\n",
              "      <td id=\"T_b7b45_row52_col5\" class=\"data row52 col5\" >0.315081</td>\n",
              "      <td id=\"T_b7b45_row52_col6\" class=\"data row52 col6\" >True</td>\n",
              "    </tr>\n",
              "    <tr>\n",
              "      <th id=\"T_b7b45_level0_row53\" class=\"row_heading level0 row53\" >53</th>\n",
              "      <td id=\"T_b7b45_row53_col0\" class=\"data row53 col0\" >gpt2_54a4da9b9011aa8b7cabd16c81d7ec60e1fa4bec</td>\n",
              "      <td id=\"T_b7b45_row53_col1\" class=\"data row53 col1\" >6503936.000000</td>\n",
              "      <td id=\"T_b7b45_row53_col2\" class=\"data row53 col2\" >0.052899</td>\n",
              "      <td id=\"T_b7b45_row53_col3\" class=\"data row53 col3\" >55.414674</td>\n",
              "      <td id=\"T_b7b45_row53_col4\" class=\"data row53 col4\" >2</td>\n",
              "      <td id=\"T_b7b45_row53_col5\" class=\"data row53 col5\" >0.315081</td>\n",
              "      <td id=\"T_b7b45_row53_col6\" class=\"data row53 col6\" >True</td>\n",
              "    </tr>\n",
              "    <tr>\n",
              "      <th id=\"T_b7b45_level0_row54\" class=\"row_heading level0 row54\" >54</th>\n",
              "      <td id=\"T_b7b45_row54_col0\" class=\"data row54 col0\" >gpt2_9ed4dceb73f33a7ffc2261c0cf3fbca8ebbcdf03</td>\n",
              "      <td id=\"T_b7b45_row54_col1\" class=\"data row54 col1\" >17080384.000000</td>\n",
              "      <td id=\"T_b7b45_row54_col2\" class=\"data row54 col2\" >0.134212</td>\n",
              "      <td id=\"T_b7b45_row54_col3\" class=\"data row54 col3\" >101.107013</td>\n",
              "      <td id=\"T_b7b45_row54_col4\" class=\"data row54 col4\" >2</td>\n",
              "      <td id=\"T_b7b45_row54_col5\" class=\"data row54 col5\" >0.315081</td>\n",
              "      <td id=\"T_b7b45_row54_col6\" class=\"data row54 col6\" >True</td>\n",
              "    </tr>\n",
              "    <tr>\n",
              "      <th id=\"T_b7b45_level0_row55\" class=\"row_heading level0 row55\" >55</th>\n",
              "      <td id=\"T_b7b45_row55_col0\" class=\"data row55 col0\" >gpt2_0f3ea9e663a16a1f5ac66d5ec453c46bd03f9535</td>\n",
              "      <td id=\"T_b7b45_row55_col1\" class=\"data row55 col1\" >7107328.000000</td>\n",
              "      <td id=\"T_b7b45_row55_col2\" class=\"data row55 col2\" >0.066873</td>\n",
              "      <td id=\"T_b7b45_row55_col3\" class=\"data row55 col3\" >49.662576</td>\n",
              "      <td id=\"T_b7b45_row55_col4\" class=\"data row55 col4\" >2</td>\n",
              "      <td id=\"T_b7b45_row55_col5\" class=\"data row55 col5\" >0.315081</td>\n",
              "      <td id=\"T_b7b45_row55_col6\" class=\"data row55 col6\" >False</td>\n",
              "    </tr>\n",
              "    <tr>\n",
              "      <th id=\"T_b7b45_level0_row56\" class=\"row_heading level0 row56\" >56</th>\n",
              "      <td id=\"T_b7b45_row56_col0\" class=\"data row56 col0\" >gpt2_6115d7e3a8d8e20b276e84d08528d8d24cb4f9eb</td>\n",
              "      <td id=\"T_b7b45_row56_col1\" class=\"data row56 col1\" >14724096.000000</td>\n",
              "      <td id=\"T_b7b45_row56_col2\" class=\"data row56 col2\" >0.116412</td>\n",
              "      <td id=\"T_b7b45_row56_col3\" class=\"data row56 col3\" >78.704400</td>\n",
              "      <td id=\"T_b7b45_row56_col4\" class=\"data row56 col4\" >2</td>\n",
              "      <td id=\"T_b7b45_row56_col5\" class=\"data row56 col5\" >0.315081</td>\n",
              "      <td id=\"T_b7b45_row56_col6\" class=\"data row56 col6\" >True</td>\n",
              "    </tr>\n",
              "    <tr>\n",
              "      <th id=\"T_b7b45_level0_row57\" class=\"row_heading level0 row57\" >57</th>\n",
              "      <td id=\"T_b7b45_row57_col0\" class=\"data row57 col0\" >gpt2_e0da163dc431f9cb26b07e35c79167a07534616e</td>\n",
              "      <td id=\"T_b7b45_row57_col1\" class=\"data row57 col1\" >30962304.000000</td>\n",
              "      <td id=\"T_b7b45_row57_col2\" class=\"data row57 col2\" >0.235991</td>\n",
              "      <td id=\"T_b7b45_row57_col3\" class=\"data row57 col3\" >154.017228</td>\n",
              "      <td id=\"T_b7b45_row57_col4\" class=\"data row57 col4\" >2</td>\n",
              "      <td id=\"T_b7b45_row57_col5\" class=\"data row57 col5\" >0.315081</td>\n",
              "      <td id=\"T_b7b45_row57_col6\" class=\"data row57 col6\" >True</td>\n",
              "    </tr>\n",
              "    <tr>\n",
              "      <th id=\"T_b7b45_level0_row58\" class=\"row_heading level0 row58\" >58</th>\n",
              "      <td id=\"T_b7b45_row58_col0\" class=\"data row58 col0\" >gpt2_870ae84db63eae61caa30405f7f431dc9712a1c4</td>\n",
              "      <td id=\"T_b7b45_row58_col1\" class=\"data row58 col1\" >25290112.000000</td>\n",
              "      <td id=\"T_b7b45_row58_col2\" class=\"data row58 col2\" >0.193124</td>\n",
              "      <td id=\"T_b7b45_row58_col3\" class=\"data row58 col3\" >127.032556</td>\n",
              "      <td id=\"T_b7b45_row58_col4\" class=\"data row58 col4\" >2</td>\n",
              "      <td id=\"T_b7b45_row58_col5\" class=\"data row58 col5\" >0.315081</td>\n",
              "      <td id=\"T_b7b45_row58_col6\" class=\"data row58 col6\" >True</td>\n",
              "    </tr>\n",
              "    <tr>\n",
              "      <th id=\"T_b7b45_level0_row59\" class=\"row_heading level0 row59\" >59</th>\n",
              "      <td id=\"T_b7b45_row59_col0\" class=\"data row59 col0\" >gpt2_534c9e27b73a4188a4f77f3d2f850a732ff4fc2b</td>\n",
              "      <td id=\"T_b7b45_row59_col1\" class=\"data row59 col1\" >31533056.000000</td>\n",
              "      <td id=\"T_b7b45_row59_col2\" class=\"data row59 col2\" >0.242513</td>\n",
              "      <td id=\"T_b7b45_row59_col3\" class=\"data row59 col3\" >153.513322</td>\n",
              "      <td id=\"T_b7b45_row59_col4\" class=\"data row59 col4\" >2</td>\n",
              "      <td id=\"T_b7b45_row59_col5\" class=\"data row59 col5\" >0.315081</td>\n",
              "      <td id=\"T_b7b45_row59_col6\" class=\"data row59 col6\" >True</td>\n",
              "    </tr>\n",
              "    <tr>\n",
              "      <th id=\"T_b7b45_level0_row60\" class=\"row_heading level0 row60\" >60</th>\n",
              "      <td id=\"T_b7b45_row60_col0\" class=\"data row60 col0\" >gpt2_b996909be54fe8af9b2d11ceb91a49d38e1c13f8</td>\n",
              "      <td id=\"T_b7b45_row60_col1\" class=\"data row60 col1\" >15773696.000000</td>\n",
              "      <td id=\"T_b7b45_row60_col2\" class=\"data row60 col2\" >0.129888</td>\n",
              "      <td id=\"T_b7b45_row60_col3\" class=\"data row60 col3\" >82.704873</td>\n",
              "      <td id=\"T_b7b45_row60_col4\" class=\"data row60 col4\" >2</td>\n",
              "      <td id=\"T_b7b45_row60_col5\" class=\"data row60 col5\" >0.315081</td>\n",
              "      <td id=\"T_b7b45_row60_col6\" class=\"data row60 col6\" >True</td>\n",
              "    </tr>\n",
              "    <tr>\n",
              "      <th id=\"T_b7b45_level0_row61\" class=\"row_heading level0 row61\" >61</th>\n",
              "      <td id=\"T_b7b45_row61_col0\" class=\"data row61 col0\" >gpt2_7732b2000f9b35e139ce43002a2476b0b11b27b1</td>\n",
              "      <td id=\"T_b7b45_row61_col1\" class=\"data row61 col1\" >6409472.000000</td>\n",
              "      <td id=\"T_b7b45_row61_col2\" class=\"data row61 col2\" >0.055123</td>\n",
              "      <td id=\"T_b7b45_row61_col3\" class=\"data row61 col3\" >52.364760</td>\n",
              "      <td id=\"T_b7b45_row61_col4\" class=\"data row61 col4\" >2</td>\n",
              "      <td id=\"T_b7b45_row61_col5\" class=\"data row61 col5\" >0.315081</td>\n",
              "      <td id=\"T_b7b45_row61_col6\" class=\"data row61 col6\" >False</td>\n",
              "    </tr>\n",
              "    <tr>\n",
              "      <th id=\"T_b7b45_level0_row62\" class=\"row_heading level0 row62\" >62</th>\n",
              "      <td id=\"T_b7b45_row62_col0\" class=\"data row62 col0\" >gpt2_1c4ef81c171f066ea6e51256051fb83af5ce9ee3</td>\n",
              "      <td id=\"T_b7b45_row62_col1\" class=\"data row62 col1\" >12931200.000000</td>\n",
              "      <td id=\"T_b7b45_row62_col2\" class=\"data row62 col2\" >0.098794</td>\n",
              "      <td id=\"T_b7b45_row62_col3\" class=\"data row62 col3\" >90.671401</td>\n",
              "      <td id=\"T_b7b45_row62_col4\" class=\"data row62 col4\" >2</td>\n",
              "      <td id=\"T_b7b45_row62_col5\" class=\"data row62 col5\" >0.315081</td>\n",
              "      <td id=\"T_b7b45_row62_col6\" class=\"data row62 col6\" >True</td>\n",
              "    </tr>\n",
              "  </tbody>\n",
              "</table>\n",
              "</div>"
            ],
            "text/plain": [
              "<IPython.core.display.HTML object>"
            ]
          },
          "metadata": {},
          "output_type": "display_data"
        }
      ],
      "source": [
        "df = nb_helper.get_search_csv(downloaded_folder)\n",
        "df = df.drop('parent', axis=1)\n",
        "df = df.drop('parents', axis=1)\n",
        "\n",
        "csv_as_html = nb_helper.get_csv_as_stylized_html(df)\n",
        "display(HTML(csv_as_html))"
      ]
    }
  ],
  "metadata": {
    "kernel_info": {
      "name": "python310-sdkv2"
    },
    "kernelspec": {
      "display_name": "archai",
      "language": "python",
      "name": "python3"
    },
    "language_info": {
      "codemirror_mode": {
        "name": "ipython",
        "version": 3
      },
      "file_extension": ".py",
      "mimetype": "text/x-python",
      "name": "python",
      "nbconvert_exporter": "python",
      "pygments_lexer": "ipython3",
      "version": "3.10.10"
    },
    "microsoft": {
      "host": {
        "AzureML": {
          "notebookHasBeenCompleted": true
        }
      }
    },
    "nteract": {
      "version": "nteract-front-end@1.0.0"
    },
    "vscode": {
      "interpreter": {
        "hash": "0d4293aab49b039cc0cdcd865f65e47bb7838862d84c380ef42d6c53ee313261"
      }
    }
  },
  "nbformat": 4,
  "nbformat_minor": 2
}